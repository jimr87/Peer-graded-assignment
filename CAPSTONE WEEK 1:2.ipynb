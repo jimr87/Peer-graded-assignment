{
 "cells": [
  {
   "cell_type": "markdown",
   "metadata": {
    "collapsed": true
   },
   "source": [
    "# Coursera Capstone Project\n",
    "## The Battle of Neighborhoods - Final Report (Week 1 and 2)  \n",
    "#### Roeser, James"
   ]
  },
  {
   "cell_type": "markdown",
   "metadata": {},
   "source": [
    "#### Upload Required Librarys:"
   ]
  },
  {
   "cell_type": "code",
   "execution_count": 1,
   "metadata": {},
   "outputs": [
    {
     "name": "stdout",
     "output_type": "stream",
     "text": [
      "Solving environment: done\n",
      "\n",
      "## Package Plan ##\n",
      "\n",
      "  environment location: /opt/conda/envs/Python36\n",
      "\n",
      "  added / updated specs: \n",
      "    - geopy\n",
      "\n",
      "\n",
      "The following packages will be downloaded:\n",
      "\n",
      "    package                    |            build\n",
      "    ---------------------------|-----------------\n",
      "    python_abi-3.6             |          1_cp36m           4 KB  conda-forge\n",
      "    openssl-1.1.1g             |       h516909a_0         2.1 MB  conda-forge\n",
      "    geopy-1.21.0               |             py_0          58 KB  conda-forge\n",
      "    ca-certificates-2020.4.5.1 |       hecc5488_0         146 KB  conda-forge\n",
      "    geographiclib-1.50         |             py_0          34 KB  conda-forge\n",
      "    certifi-2020.4.5.1         |   py36h9f0ad1d_0         151 KB  conda-forge\n",
      "    ------------------------------------------------------------\n",
      "                                           Total:         2.5 MB\n",
      "\n",
      "The following NEW packages will be INSTALLED:\n",
      "\n",
      "    geographiclib:   1.50-py_0         conda-forge\n",
      "    geopy:           1.21.0-py_0       conda-forge\n",
      "    python_abi:      3.6-1_cp36m       conda-forge\n",
      "\n",
      "The following packages will be UPDATED:\n",
      "\n",
      "    ca-certificates: 2020.1.1-0                    --> 2020.4.5.1-hecc5488_0     conda-forge\n",
      "    certifi:         2020.4.5.1-py36_0             --> 2020.4.5.1-py36h9f0ad1d_0 conda-forge\n",
      "    openssl:         1.1.1g-h7b6447c_0             --> 1.1.1g-h516909a_0         conda-forge\n",
      "\n",
      "\n",
      "Downloading and Extracting Packages\n",
      "python_abi-3.6       | 4 KB      | ##################################### | 100% \n",
      "openssl-1.1.1g       | 2.1 MB    | ##################################### | 100% \n",
      "geopy-1.21.0         | 58 KB     | ##################################### | 100% \n",
      "ca-certificates-2020 | 146 KB    | ##################################### | 100% \n",
      "geographiclib-1.50   | 34 KB     | ##################################### | 100% \n",
      "certifi-2020.4.5.1   | 151 KB    | ##################################### | 100% \n",
      "Preparing transaction: done\n",
      "Verifying transaction: done\n",
      "Executing transaction: done\n",
      "Solving environment: done\n",
      "\n",
      "## Package Plan ##\n",
      "\n",
      "  environment location: /opt/conda/envs/Python36\n",
      "\n",
      "  added / updated specs: \n",
      "    - folium=0.5.0\n",
      "\n",
      "\n",
      "The following packages will be downloaded:\n",
      "\n",
      "    package                    |            build\n",
      "    ---------------------------|-----------------\n",
      "    altair-4.1.0               |             py_1         614 KB  conda-forge\n",
      "    vincent-0.4.4              |             py_1          28 KB  conda-forge\n",
      "    branca-0.4.0               |             py_0          26 KB  conda-forge\n",
      "    folium-0.5.0               |             py_0          45 KB  conda-forge\n",
      "    ------------------------------------------------------------\n",
      "                                           Total:         713 KB\n",
      "\n",
      "The following NEW packages will be INSTALLED:\n",
      "\n",
      "    altair:  4.1.0-py_1 conda-forge\n",
      "    branca:  0.4.0-py_0 conda-forge\n",
      "    folium:  0.5.0-py_0 conda-forge\n",
      "    vincent: 0.4.4-py_1 conda-forge\n",
      "\n",
      "\n",
      "Downloading and Extracting Packages\n",
      "altair-4.1.0         | 614 KB    | ##################################### | 100% \n",
      "vincent-0.4.4        | 28 KB     | ##################################### | 100% \n",
      "branca-0.4.0         | 26 KB     | ##################################### | 100% \n",
      "folium-0.5.0         | 45 KB     | ##################################### | 100% \n",
      "Preparing transaction: done\n",
      "Verifying transaction: done\n",
      "Executing transaction: done\n",
      "Libraries imported.\n"
     ]
    }
   ],
   "source": [
    "import numpy as np # library to handle data in a vectorized manner\n",
    "import time\n",
    "import pandas as pd # library for data analsysis\n",
    "pd.set_option('display.max_columns', None)\n",
    "pd.set_option('display.max_rows', None)\n",
    "\n",
    "import json # library to handle JSON files\n",
    "import requests # library to handle requests\n",
    "from pandas.io.json import json_normalize # tranform JSON file into a pandas dataframe\n",
    "\n",
    "\n",
    "!conda install -c conda-forge geopy --yes # uncomment this line if you haven't completed the Foursquare API lab\n",
    "from geopy.geocoders import Nominatim # convert an address into latitude and longitude values\n",
    "\n",
    "!conda install -c conda-forge folium=0.5.0 --yes # uncomment this line if you haven't completed the Foursquare API lab\n",
    "import folium # map rendering library\n",
    "import folium # map rendering library\n",
    "from folium import plugins\n",
    "\n",
    "# Matplotlib and associated plotting modules\n",
    "import matplotlib.cm as cm\n",
    "import matplotlib.colors as colors\n",
    "\n",
    "import seaborn as sns\n",
    "\n",
    "# import k-means from clustering stage\n",
    "from sklearn.cluster import KMeans\n",
    "\n",
    "\n",
    "\n",
    "print('Libraries imported.')"
   ]
  },
  {
   "cell_type": "markdown",
   "metadata": {},
   "source": [
    "# Coursera Capstone - REPORT\n",
    "## Content:  \n",
    "\n",
    "### 1. Introduction Section :\n",
    "\n",
    "#####    1.1 Discussion of the \"backgroung situation\" leading to the problem at hand:\n",
    "\n",
    "#####    1.2 Problem to be resolved\n",
    "\n",
    "#####    1.3 Audience for this project.\n",
    "\n",
    "### 2. Data Section:\n",
    "\n",
    "#####    2.1 Data of Current Situation (current residence place)\n",
    "\n",
    "#####    2.2 Data required to resolve the problem\n",
    "\n",
    "#####    2.3 Data sources and data manipulation\n",
    "\n",
    "### 3. Methodology section :\n",
    "\n",
    "#####    3.1 Process steps and strategy to resolve the problem\n",
    "\n",
    "#####    3.2 Data Science Methods, machine learing, mapping tools and exploratory data analysis.\n",
    "\n",
    "### 4. Results section\n",
    "\n",
    "#####    Discussion of the results and how they help to take a decision.\n",
    "\n",
    "### 5. Discussion section\n",
    "\n",
    "#####    Elaboration and discussion on any observations and/or recommendations for improvement.\n",
    "\n",
    "### 6. Conclusion section\n",
    "\n",
    "#####    Desicison taken and Report Conclusion."
   ]
  },
  {
   "cell_type": "markdown",
   "metadata": {},
   "source": [
    "\n",
    "# 1. Introduction Section :\n",
    "\n",
    "### This section discusses of the business problem and the audience who would be interested in this project.\n",
    "\n",
    "####    1.1 Discussion of the \"backgroung situation\" leading to the problem at hand:\n",
    "I am a contractor who is currently working form hom due to the COVID-19 situation. Due to this my company has put together a training program to make us more capable when we return to our desks and this IBM certification was part of that curriculum. As such, this whole scenario is for fun and not being used for anything other than to achieve a certification. Since I am not actually moving anywhere, I thought it would be fun to look at New York because that is were I grew up... and what better place to look at in NY than Manhattan. I am sure the is substancial data for the area to complete this project, and I will look for a suitable apartment. I will be employing the skills I have learned througout this course to make my pretend decision as informed as possible. There are other platforms which would be able to produce similar results im sure, but I will be attempting to do complete the task with the tools I have learned in this course.  \n",
    "\n",
    "####    1.2 Problem to be resolved\n",
    "The problem to resolve is being able to find an apartment to rent in Manhattan, NY that is similar to my current living situation. Therefore, I will be serching for an apartment wih the following conditions: minimum of two bedrooms; rent less than $7,000 USD per month; Walking distance from a subway metro station (less than a mile); Ammenitis and venues similar to the ones I have now (see item 2.1).\n",
    "\n",
    "####    1.3 Audience for this project.\n",
    "I think this project would be relevant to anyone considering moving to a new major city who has not personally been there before. The methodoligies and approach I use would be relevant in this case. I will use FourSquare data and mapping techniques combined wiht data analyis to answer the key questions and in doing so will have a good practical application to develop my data science\n"
   ]
  },
  {
   "cell_type": "markdown",
   "metadata": {},
   "source": [
    "# 2. Data Section:\n",
    "\n",
    "### This section describes the data and its sources that will be used to solve the problem.\n",
    "\n",
    "####    2.1 Data of Current Situation (current residence place)\n",
    "For the example I will pretned that I Currently reside in the neighborhood of 'Mccallum Street' in Downtonw Singapore. I will use Foursquare to identify the venues around the area of residence which are then shown in the Singapore map shown in methodology and execution in section 3.0. It will serve as a reference for comparison with the desired future location in Manhattan, NY.\n",
    "\n",
    "####    2.2 Data required to resolve the problem\n",
    "In order to make a good choice of a similar apartment in Manhattan, NY, the following data is required: List/Information on neighborhoods form Manhattan with their Geodata ( latitud and longitud. List/Information about the subway metro stations in Manhattan with geodata. Listed apartments for rent in Manhattan area with descriptions ( how many beds, price, location, address) Venues and ammenities in the Manhattan neighborhoods (e.g. top 10) 2.3 sources and manipulation The list of Manhattan neighborhoods is worked out during LAb exercise during the course. A csv file was created which will be read in order to create a dataframe and its mapping. The csv file 'mh_neigh_data.csv' has the following below data structure. The file will be directly read to the Jupiter Notebook for convenience and space savings. The clustering of neighborhoods and mapping will be shown however. An algorythm was used to determine the geodata from Nominatim . The actual algorythm coding may be shown in 'markdown' mode becasues it takes time to run.\n",
    "\n",
    "mh_neigh_data.tail():\n",
    "\n",
    "          Borough    Neighborhood    Latitude    Longitude\n",
    "\n",
    "      35    Manhattan    Turtle Bay    40.752042    -73.967708\n",
    "\n",
    "      36    Manhattan    Tudor City    40.746917    -73.971219\n",
    "\n",
    "      37    Manhattan    Stuyvesant Town    40.731000    -73.974052\n",
    "\n",
    "      38    Manhattan    Flatiron    40.739673    -73.990947\n",
    "\n",
    "      39    Manhattan    Hudson Yards    40.756658    -74.000111\n",
    "\n",
    "\n",
    "####    2.3 Data sources and data manipulation\n",
    "A list of places for rent was collected by web-browsing real estate companies in Manhattan : http://www.rentmanhattan.com/index.cfm?page=search&state=results https://www.nestpick.com/search?city=new-york&page=1&order=relevance&district=manhattan&gclid=CjwKCAiAjNjgBRAgEiwAGLlf2hkP3A-cPxjZYkURqQEswQK2jKQEpv_MvKcrIhRWRzNkc_r-fGi0lxoCA7cQAvD_BwE&type=apartment&display=list https://www.realtor.com/apartments/Manhattan_NY A csv file was compiled with the rental place that indicated: areas of Manhattan, address, number of beds, area and monthly rental price. The csv file \"nnnn.csv\" had the following below structure. An algorythm was used to create all the geodata using Nominatim, as shown in section 3.0. The actual algorythm coding may be shown in 'markdown' mode becasues it takes time to run. With the use of geolocator = Nominatim() , it was possible to determine the latitude and longiude for the subway metro locations as well as for the geodata for each rental place listed. The loop algorythms used are shown in the execution of data in section 3.0 \"Great_circle\" function from geolocator was used to calculate distances between two points , as in the case to calculate average rent price for units around each subway station and at 1.6 km radius. Foursquare is used to find the avenues at Manhattan neighborhoods in general and a cluster is created to later be able to search for the venues depending of the location shown.\n",
    "\n",
    "The data will be used as follows: Use Foursquare and geopy data to map top 10 venues for all Manhattan neighborhoods and clustered in groups ( as per Course LAB) Use foursquare and geopy data to map the location of subway metro stations , separately and on top of the above clustered map in order to be able to identify the venues and ammenities near each metro station, or explore each subway location separately Use Foursquare and geopy data to map the location of rental places, in some form, linked to the subway locations. create a map that depicts, for instance, the average rental price per square ft, around a radious of 1.0 mile (1.6 km) around each subway station - or a similar metrics. I will be able to quickly point to the popups to know the relative price per subway area. Addresses from rental locations will be converted to geodata( lat, long) using Geopy-distance and Nominatim. Data will be searched in open data sources if available, from real estate sites if open to reading, libraries or other government agencies such as Metro New York MTA, etc.\n",
    "\n",
    "The following maps were created to facilitate the analysis and the choice of the palace to live. Manhattan map of Neighborhoods manhattan subway metro locations Manhattan map of places for rent Manhattan map of clustered venues and neighborhoods Combined maps of Manhattan rent places with subway locations Combined maps of Manhattan rent places with subway locations and venues clusters\n",
    "\n",
    "\n"
   ]
  },
  {
   "cell_type": "markdown",
   "metadata": {},
   "source": [
    "# 3. Methodology section :\n",
    "\n",
    "### This section represents the main component of the report where the data is gathered, prepared for analysis. The tools described are used here and the Notebook cells indicates the execution of steps.\n",
    "\n",
    "####    3.1 Process steps and strategy to resolve the problem\n",
    "The strategy is based on mapping the above described data in section 2.0, in order to facilitate the choice of at least two candidate places for rent. The choice is made based on the demands imposed : location near a subway, rental price and similar venues to Singapore. This visual approach and maps with popups labels allow quick identification of location, price and feature, thus making the selection very easy.\n",
    "\n",
    "The procesing of these DATA and its mapping will allow to answer the key questions to make a decision:\n",
    "\n",
    "o What is the cost of available rental places that meet the demands?  \n",
    "o What is the cost of rent around a mile radius from each subway metro station?  \n",
    "o What is the area of Manhattan with best rental pricing that meets criteria established?  \n",
    "o What is the distance from work place ( Park Ave and 53 rd St) and the tentative future rental home?  \n",
    "o What are the venues of the two best places to live? How the prices compare?  \n",
    "o How venues distribute among Manhattan neighborhoods and around metro stations?  \n",
    "o Are there tradeoffs between size and price and location?  \n",
    "o Any other interesting statistical data findings of the real estate and overall data?  \n",
    "\n",
    "####    3.2 Data Science Methods, machine learing, mapping tools and exploratory data analysis.\n"
   ]
  },
  {
   "cell_type": "markdown",
   "metadata": {},
   "source": [
    "# METHODOLOY EXECUTION - Mapping Data\n",
    "##### Singapore Map - Current residence and venues in neighborhood for comparison to future Manhattan renting place"
   ]
  },
  {
   "cell_type": "code",
   "execution_count": 2,
   "metadata": {},
   "outputs": [
    {
     "name": "stderr",
     "output_type": "stream",
     "text": [
      "/opt/conda/envs/Python36/lib/python3.6/site-packages/ipykernel/__main__.py:3: DeprecationWarning: Using Nominatim with the default \"geopy/1.21.0\" `user_agent` is strongly discouraged, as it violates Nominatim's ToS https://operations.osmfoundation.org/policies/nominatim/ and may possibly cause 403 and 429 HTTP errors. Please specify a custom `user_agent` with `Nominatim(user_agent=\"my-application\")` or by overriding the default `user_agent`: `geopy.geocoders.options.default_user_agent = \"my-application\"`. In geopy 2.0 this will become an exception.\n",
      "  app.launch_new_instance()\n"
     ]
    },
    {
     "name": "stdout",
     "output_type": "stream",
     "text": [
      "The geograpical coordinate of Singapore home are 1.2784801, 103.8493717.\n"
     ]
    }
   ],
   "source": [
    "# Shenton Way, District 01, Singapore\n",
    "address = 'Mccallum Street, Singapore'\n",
    "geolocator = Nominatim()\n",
    "location = geolocator.geocode(address)\n",
    "latitude = location.latitude\n",
    "longitude = location.longitude\n",
    "print('The geograpical coordinate of Singapore home are {}, {}.'.format(latitude, longitude))"
   ]
  },
  {
   "cell_type": "code",
   "execution_count": 3,
   "metadata": {},
   "outputs": [],
   "source": [
    "neighborhood_latitude=1.2792655\n",
    "neighborhood_longitude=103.8480938"
   ]
  },
  {
   "cell_type": "markdown",
   "metadata": {},
   "source": [
    "# Dial FourSquare to find venues around current residence in Singapore\n"
   ]
  },
  {
   "cell_type": "code",
   "execution_count": 11,
   "metadata": {},
   "outputs": [],
   "source": [
    "CLIENT_ID = 'EWQEZAAWZBPZX4HFTTBO1ELMPUVWGEWQ4ZXAFKXQ4DVBRVJH'\n",
    "CLIENT_SECRET = 'UJ1GWCF4LQVADWNCFSD5FKPPCOOPCRTD0TXO53JJYK1EJ1GY' \n",
    "VERSION = '20180323'"
   ]
  },
  {
   "cell_type": "code",
   "execution_count": 12,
   "metadata": {},
   "outputs": [
    {
     "data": {
      "text/plain": [
       "'https://api.foursquare.com/v2/venues/explore?&client_id=EWQEZAAWZBPZX4HFTTBO1ELMPUVWGEWQ4ZXAFKXQ4DVBRVJH&client_secret=UJ1GWCF4LQVADWNCFSD5FKPPCOOPCRTD0TXO53JJYK1EJ1GY&v=20180323&ll=1.2792655,103.8480938&radius=500&limit=100'"
      ]
     },
     "execution_count": 12,
     "metadata": {},
     "output_type": "execute_result"
    }
   ],
   "source": [
    "LIMIT = 100 # limit of number of venues returned by Foursquare API\n",
    "radius = 500 # define radius\n",
    "# create URL\n",
    "url = 'https://api.foursquare.com/v2/venues/explore?&client_id={}&client_secret={}&v={}&ll={},{}&radius={}&limit={}'.format(\n",
    "    CLIENT_ID, \n",
    "    CLIENT_SECRET, \n",
    "    VERSION, \n",
    "    neighborhood_latitude, \n",
    "    neighborhood_longitude, \n",
    "    radius, \n",
    "    LIMIT)\n",
    "url # display URL\n"
   ]
  },
  {
   "cell_type": "code",
   "execution_count": 13,
   "metadata": {},
   "outputs": [],
   "source": [
    "# results display is hidden for report simplification \n",
    "results = requests.get(url).json()\n",
    "#results\n"
   ]
  },
  {
   "cell_type": "markdown",
   "metadata": {},
   "source": [
    "# function that extracts the category of the venue - borrow from the Foursquare lab.\n"
   ]
  },
  {
   "cell_type": "code",
   "execution_count": 14,
   "metadata": {},
   "outputs": [],
   "source": [
    "def get_category_type(row):\n",
    "    try:\n",
    "        categories_list = row['categories']\n",
    "    except:\n",
    "        categories_list = row['venue.categories']\n",
    "        \n",
    "    if len(categories_list) == 0:\n",
    "        return None\n",
    "    else:\n",
    "        return categories_list[0]['name']"
   ]
  },
  {
   "cell_type": "code",
   "execution_count": 15,
   "metadata": {},
   "outputs": [
    {
     "data": {
      "text/plain": [
       "(100, 4)"
      ]
     },
     "execution_count": 15,
     "metadata": {},
     "output_type": "execute_result"
    }
   ],
   "source": [
    "venues = results['response']['groups'][0]['items']\n",
    "SGnearby_venues = json_normalize(venues) # flatten JSON\n",
    "# filter columns\n",
    "filtered_columns = ['venue.name', 'venue.categories', 'venue.location.lat', 'venue.location.lng']\n",
    "SGnearby_venues =SGnearby_venues.loc[:, filtered_columns]\n",
    "# filter the category for each row\n",
    "SGnearby_venues['venue.categories'] = SGnearby_venues.apply(get_category_type, axis=1)\n",
    "# clean columns\n",
    "SGnearby_venues.columns = [col.split(\".\")[-1] for col in SGnearby_venues.columns]\n",
    "\n",
    "SGnearby_venues.shape"
   ]
  },
  {
   "cell_type": "code",
   "execution_count": 16,
   "metadata": {},
   "outputs": [
    {
     "data": {
      "text/html": [
       "<div>\n",
       "<style scoped>\n",
       "    .dataframe tbody tr th:only-of-type {\n",
       "        vertical-align: middle;\n",
       "    }\n",
       "\n",
       "    .dataframe tbody tr th {\n",
       "        vertical-align: top;\n",
       "    }\n",
       "\n",
       "    .dataframe thead th {\n",
       "        text-align: right;\n",
       "    }\n",
       "</style>\n",
       "<table border=\"1\" class=\"dataframe\">\n",
       "  <thead>\n",
       "    <tr style=\"text-align: right;\">\n",
       "      <th></th>\n",
       "      <th>name</th>\n",
       "      <th>categories</th>\n",
       "      <th>lat</th>\n",
       "      <th>lng</th>\n",
       "    </tr>\n",
       "  </thead>\n",
       "  <tbody>\n",
       "    <tr>\n",
       "      <th>0</th>\n",
       "      <td>Napoleon Food &amp; Wine Bar</td>\n",
       "      <td>Wine Bar</td>\n",
       "      <td>1.279925</td>\n",
       "      <td>103.847333</td>\n",
       "    </tr>\n",
       "    <tr>\n",
       "      <th>1</th>\n",
       "      <td>Native</td>\n",
       "      <td>Cocktail Bar</td>\n",
       "      <td>1.280135</td>\n",
       "      <td>103.846844</td>\n",
       "    </tr>\n",
       "    <tr>\n",
       "      <th>2</th>\n",
       "      <td>Freehouse</td>\n",
       "      <td>Beer Garden</td>\n",
       "      <td>1.281254</td>\n",
       "      <td>103.848513</td>\n",
       "    </tr>\n",
       "    <tr>\n",
       "      <th>3</th>\n",
       "      <td>Sofitel So Singapore</td>\n",
       "      <td>Hotel</td>\n",
       "      <td>1.280017</td>\n",
       "      <td>103.849813</td>\n",
       "    </tr>\n",
       "    <tr>\n",
       "      <th>4</th>\n",
       "      <td>Park Bench Deli</td>\n",
       "      <td>Deli / Bodega</td>\n",
       "      <td>1.279872</td>\n",
       "      <td>103.847287</td>\n",
       "    </tr>\n",
       "    <tr>\n",
       "      <th>5</th>\n",
       "      <td>Pepper Bowl</td>\n",
       "      <td>Asian Restaurant</td>\n",
       "      <td>1.279371</td>\n",
       "      <td>103.846710</td>\n",
       "    </tr>\n",
       "    <tr>\n",
       "      <th>6</th>\n",
       "      <td>Meat Smith</td>\n",
       "      <td>Southern / Soul Food Restaurant</td>\n",
       "      <td>1.280205</td>\n",
       "      <td>103.847410</td>\n",
       "    </tr>\n",
       "    <tr>\n",
       "      <th>7</th>\n",
       "      <td>Mellower Coffee</td>\n",
       "      <td>Café</td>\n",
       "      <td>1.277814</td>\n",
       "      <td>103.848188</td>\n",
       "    </tr>\n",
       "    <tr>\n",
       "      <th>8</th>\n",
       "      <td>PS.Cafe</td>\n",
       "      <td>Café</td>\n",
       "      <td>1.280468</td>\n",
       "      <td>103.846264</td>\n",
       "    </tr>\n",
       "    <tr>\n",
       "      <th>9</th>\n",
       "      <td>Anglo Indian Cafe &amp; Bar</td>\n",
       "      <td>Indian Restaurant</td>\n",
       "      <td>1.279084</td>\n",
       "      <td>103.850127</td>\n",
       "    </tr>\n",
       "  </tbody>\n",
       "</table>\n",
       "</div>"
      ],
      "text/plain": [
       "                       name                       categories       lat  \\\n",
       "0  Napoleon Food & Wine Bar                         Wine Bar  1.279925   \n",
       "1                    Native                     Cocktail Bar  1.280135   \n",
       "2                 Freehouse                      Beer Garden  1.281254   \n",
       "3      Sofitel So Singapore                            Hotel  1.280017   \n",
       "4           Park Bench Deli                    Deli / Bodega  1.279872   \n",
       "5               Pepper Bowl                 Asian Restaurant  1.279371   \n",
       "6                Meat Smith  Southern / Soul Food Restaurant  1.280205   \n",
       "7           Mellower Coffee                             Café  1.277814   \n",
       "8                   PS.Cafe                             Café  1.280468   \n",
       "9   Anglo Indian Cafe & Bar                Indian Restaurant  1.279084   \n",
       "\n",
       "          lng  \n",
       "0  103.847333  \n",
       "1  103.846844  \n",
       "2  103.848513  \n",
       "3  103.849813  \n",
       "4  103.847287  \n",
       "5  103.846710  \n",
       "6  103.847410  \n",
       "7  103.848188  \n",
       "8  103.846264  \n",
       "9  103.850127  "
      ]
     },
     "execution_count": 16,
     "metadata": {},
     "output_type": "execute_result"
    }
   ],
   "source": [
    "# Venues near current Singapore residence place\n",
    "SGnearby_venues.head(10)"
   ]
  },
  {
   "cell_type": "markdown",
   "metadata": {},
   "source": [
    "# Map of Singapore residence place with venues in Neighborhood - for reference"
   ]
  },
  {
   "cell_type": "code",
   "execution_count": 17,
   "metadata": {
    "scrolled": true
   },
   "outputs": [
    {
     "data": {
      "text/html": [
       "<div style=\"width:100%;\"><div style=\"position:relative;width:100%;height:0;padding-bottom:60%;\"><iframe src=\"about:blank\" style=\"position:absolute;width:100%;height:100%;left:0;top:0;border:none !important;\" data-html=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 onload=\"this.contentDocument.open();this.contentDocument.write(atob(this.getAttribute('data-html')));this.contentDocument.close();\" allowfullscreen webkitallowfullscreen mozallowfullscreen></iframe></div></div>"
      ],
      "text/plain": [
       "<folium.folium.Map at 0x7fb013fa8b70>"
      ]
     },
     "execution_count": 17,
     "metadata": {},
     "output_type": "execute_result"
    }
   ],
   "source": [
    "latitude=1.2792655\n",
    "longitude=103.8480938\n",
    "# create map of Singapore place  using latitude and longitude values\n",
    "map_sg = folium.Map(location=[latitude, longitude], zoom_start=18)\n",
    "# add markers to map\n",
    "for lat, lng, label in zip(SGnearby_venues['lat'], SGnearby_venues['lng'], SGnearby_venues['name']):\n",
    "    label = folium.Popup(label, parse_html=True)\n",
    "    folium.RegularPolygonMarker(\n",
    "        [lat, lng],\n",
    "        number_of_sides=30,\n",
    "        radius=7,\n",
    "        popup=label,\n",
    "        color='blue',\n",
    "        fill_color='#0f0f0f',\n",
    "        fill_opacity=0.6,\n",
    "    ).add_to(map_sg)  \n",
    "    \n",
    "map_sg"
   ]
  },
  {
   "cell_type": "markdown",
   "metadata": {},
   "source": [
    "# MANHATTAN NEIGHBORHOODS - DATA AND MAPPING\n",
    "### Cluster neighborhood data was produced with Foursquare during course lab work. A csv file was produced containing the neighborhoods around the 40 Boroughs. Now, the csv file is just read for convenience and consolidation of report."
   ]
  },
  {
   "cell_type": "code",
   "execution_count": 18,
   "metadata": {},
   "outputs": [
    {
     "ename": "FileNotFoundError",
     "evalue": "[Errno 2] File b'mh_neigh_data.csv' does not exist: b'mh_neigh_data.csv'",
     "output_type": "error",
     "traceback": [
      "\u001b[0;31m---------------------------------------------------------------------------\u001b[0m",
      "\u001b[0;31mFileNotFoundError\u001b[0m                         Traceback (most recent call last)",
      "\u001b[0;32m<ipython-input-18-c44f552da870>\u001b[0m in \u001b[0;36m<module>\u001b[0;34m\u001b[0m\n\u001b[1;32m      1\u001b[0m \u001b[0;31m# Read csv file with clustered neighborhoods with geodata\u001b[0m\u001b[0;34m\u001b[0m\u001b[0;34m\u001b[0m\u001b[0;34m\u001b[0m\u001b[0m\n\u001b[0;32m----> 2\u001b[0;31m \u001b[0mmanhattan_data\u001b[0m  \u001b[0;34m=\u001b[0m \u001b[0mpd\u001b[0m\u001b[0;34m.\u001b[0m\u001b[0mread_csv\u001b[0m\u001b[0;34m(\u001b[0m\u001b[0;34m'mh_neigh_data.csv'\u001b[0m\u001b[0;34m)\u001b[0m\u001b[0;34m\u001b[0m\u001b[0;34m\u001b[0m\u001b[0m\n\u001b[0m\u001b[1;32m      3\u001b[0m \u001b[0mmanhattan_data\u001b[0m\u001b[0;34m.\u001b[0m\u001b[0mhead\u001b[0m\u001b[0;34m(\u001b[0m\u001b[0;34m)\u001b[0m\u001b[0;34m\u001b[0m\u001b[0;34m\u001b[0m\u001b[0m\n",
      "\u001b[0;32m/opt/conda/envs/Python36/lib/python3.6/site-packages/pandas/io/parsers.py\u001b[0m in \u001b[0;36mparser_f\u001b[0;34m(filepath_or_buffer, sep, delimiter, header, names, index_col, usecols, squeeze, prefix, mangle_dupe_cols, dtype, engine, converters, true_values, false_values, skipinitialspace, skiprows, skipfooter, nrows, na_values, keep_default_na, na_filter, verbose, skip_blank_lines, parse_dates, infer_datetime_format, keep_date_col, date_parser, dayfirst, iterator, chunksize, compression, thousands, decimal, lineterminator, quotechar, quoting, doublequote, escapechar, comment, encoding, dialect, tupleize_cols, error_bad_lines, warn_bad_lines, delim_whitespace, low_memory, memory_map, float_precision)\u001b[0m\n\u001b[1;32m    700\u001b[0m                     skip_blank_lines=skip_blank_lines)\n\u001b[1;32m    701\u001b[0m \u001b[0;34m\u001b[0m\u001b[0m\n\u001b[0;32m--> 702\u001b[0;31m         \u001b[0;32mreturn\u001b[0m \u001b[0m_read\u001b[0m\u001b[0;34m(\u001b[0m\u001b[0mfilepath_or_buffer\u001b[0m\u001b[0;34m,\u001b[0m \u001b[0mkwds\u001b[0m\u001b[0;34m)\u001b[0m\u001b[0;34m\u001b[0m\u001b[0;34m\u001b[0m\u001b[0m\n\u001b[0m\u001b[1;32m    703\u001b[0m \u001b[0;34m\u001b[0m\u001b[0m\n\u001b[1;32m    704\u001b[0m     \u001b[0mparser_f\u001b[0m\u001b[0;34m.\u001b[0m\u001b[0m__name__\u001b[0m \u001b[0;34m=\u001b[0m \u001b[0mname\u001b[0m\u001b[0;34m\u001b[0m\u001b[0;34m\u001b[0m\u001b[0m\n",
      "\u001b[0;32m/opt/conda/envs/Python36/lib/python3.6/site-packages/pandas/io/parsers.py\u001b[0m in \u001b[0;36m_read\u001b[0;34m(filepath_or_buffer, kwds)\u001b[0m\n\u001b[1;32m    427\u001b[0m \u001b[0;34m\u001b[0m\u001b[0m\n\u001b[1;32m    428\u001b[0m     \u001b[0;31m# Create the parser.\u001b[0m\u001b[0;34m\u001b[0m\u001b[0;34m\u001b[0m\u001b[0;34m\u001b[0m\u001b[0m\n\u001b[0;32m--> 429\u001b[0;31m     \u001b[0mparser\u001b[0m \u001b[0;34m=\u001b[0m \u001b[0mTextFileReader\u001b[0m\u001b[0;34m(\u001b[0m\u001b[0mfilepath_or_buffer\u001b[0m\u001b[0;34m,\u001b[0m \u001b[0;34m**\u001b[0m\u001b[0mkwds\u001b[0m\u001b[0;34m)\u001b[0m\u001b[0;34m\u001b[0m\u001b[0;34m\u001b[0m\u001b[0m\n\u001b[0m\u001b[1;32m    430\u001b[0m \u001b[0;34m\u001b[0m\u001b[0m\n\u001b[1;32m    431\u001b[0m     \u001b[0;32mif\u001b[0m \u001b[0mchunksize\u001b[0m \u001b[0;32mor\u001b[0m \u001b[0miterator\u001b[0m\u001b[0;34m:\u001b[0m\u001b[0;34m\u001b[0m\u001b[0;34m\u001b[0m\u001b[0m\n",
      "\u001b[0;32m/opt/conda/envs/Python36/lib/python3.6/site-packages/pandas/io/parsers.py\u001b[0m in \u001b[0;36m__init__\u001b[0;34m(self, f, engine, **kwds)\u001b[0m\n\u001b[1;32m    893\u001b[0m             \u001b[0mself\u001b[0m\u001b[0;34m.\u001b[0m\u001b[0moptions\u001b[0m\u001b[0;34m[\u001b[0m\u001b[0;34m'has_index_names'\u001b[0m\u001b[0;34m]\u001b[0m \u001b[0;34m=\u001b[0m \u001b[0mkwds\u001b[0m\u001b[0;34m[\u001b[0m\u001b[0;34m'has_index_names'\u001b[0m\u001b[0;34m]\u001b[0m\u001b[0;34m\u001b[0m\u001b[0;34m\u001b[0m\u001b[0m\n\u001b[1;32m    894\u001b[0m \u001b[0;34m\u001b[0m\u001b[0m\n\u001b[0;32m--> 895\u001b[0;31m         \u001b[0mself\u001b[0m\u001b[0;34m.\u001b[0m\u001b[0m_make_engine\u001b[0m\u001b[0;34m(\u001b[0m\u001b[0mself\u001b[0m\u001b[0;34m.\u001b[0m\u001b[0mengine\u001b[0m\u001b[0;34m)\u001b[0m\u001b[0;34m\u001b[0m\u001b[0;34m\u001b[0m\u001b[0m\n\u001b[0m\u001b[1;32m    896\u001b[0m \u001b[0;34m\u001b[0m\u001b[0m\n\u001b[1;32m    897\u001b[0m     \u001b[0;32mdef\u001b[0m \u001b[0mclose\u001b[0m\u001b[0;34m(\u001b[0m\u001b[0mself\u001b[0m\u001b[0;34m)\u001b[0m\u001b[0;34m:\u001b[0m\u001b[0;34m\u001b[0m\u001b[0;34m\u001b[0m\u001b[0m\n",
      "\u001b[0;32m/opt/conda/envs/Python36/lib/python3.6/site-packages/pandas/io/parsers.py\u001b[0m in \u001b[0;36m_make_engine\u001b[0;34m(self, engine)\u001b[0m\n\u001b[1;32m   1120\u001b[0m     \u001b[0;32mdef\u001b[0m \u001b[0m_make_engine\u001b[0m\u001b[0;34m(\u001b[0m\u001b[0mself\u001b[0m\u001b[0;34m,\u001b[0m \u001b[0mengine\u001b[0m\u001b[0;34m=\u001b[0m\u001b[0;34m'c'\u001b[0m\u001b[0;34m)\u001b[0m\u001b[0;34m:\u001b[0m\u001b[0;34m\u001b[0m\u001b[0;34m\u001b[0m\u001b[0m\n\u001b[1;32m   1121\u001b[0m         \u001b[0;32mif\u001b[0m \u001b[0mengine\u001b[0m \u001b[0;34m==\u001b[0m \u001b[0;34m'c'\u001b[0m\u001b[0;34m:\u001b[0m\u001b[0;34m\u001b[0m\u001b[0;34m\u001b[0m\u001b[0m\n\u001b[0;32m-> 1122\u001b[0;31m             \u001b[0mself\u001b[0m\u001b[0;34m.\u001b[0m\u001b[0m_engine\u001b[0m \u001b[0;34m=\u001b[0m \u001b[0mCParserWrapper\u001b[0m\u001b[0;34m(\u001b[0m\u001b[0mself\u001b[0m\u001b[0;34m.\u001b[0m\u001b[0mf\u001b[0m\u001b[0;34m,\u001b[0m \u001b[0;34m**\u001b[0m\u001b[0mself\u001b[0m\u001b[0;34m.\u001b[0m\u001b[0moptions\u001b[0m\u001b[0;34m)\u001b[0m\u001b[0;34m\u001b[0m\u001b[0;34m\u001b[0m\u001b[0m\n\u001b[0m\u001b[1;32m   1123\u001b[0m         \u001b[0;32melse\u001b[0m\u001b[0;34m:\u001b[0m\u001b[0;34m\u001b[0m\u001b[0;34m\u001b[0m\u001b[0m\n\u001b[1;32m   1124\u001b[0m             \u001b[0;32mif\u001b[0m \u001b[0mengine\u001b[0m \u001b[0;34m==\u001b[0m \u001b[0;34m'python'\u001b[0m\u001b[0;34m:\u001b[0m\u001b[0;34m\u001b[0m\u001b[0;34m\u001b[0m\u001b[0m\n",
      "\u001b[0;32m/opt/conda/envs/Python36/lib/python3.6/site-packages/pandas/io/parsers.py\u001b[0m in \u001b[0;36m__init__\u001b[0;34m(self, src, **kwds)\u001b[0m\n\u001b[1;32m   1851\u001b[0m         \u001b[0mkwds\u001b[0m\u001b[0;34m[\u001b[0m\u001b[0;34m'usecols'\u001b[0m\u001b[0;34m]\u001b[0m \u001b[0;34m=\u001b[0m \u001b[0mself\u001b[0m\u001b[0;34m.\u001b[0m\u001b[0musecols\u001b[0m\u001b[0;34m\u001b[0m\u001b[0;34m\u001b[0m\u001b[0m\n\u001b[1;32m   1852\u001b[0m \u001b[0;34m\u001b[0m\u001b[0m\n\u001b[0;32m-> 1853\u001b[0;31m         \u001b[0mself\u001b[0m\u001b[0;34m.\u001b[0m\u001b[0m_reader\u001b[0m \u001b[0;34m=\u001b[0m \u001b[0mparsers\u001b[0m\u001b[0;34m.\u001b[0m\u001b[0mTextReader\u001b[0m\u001b[0;34m(\u001b[0m\u001b[0msrc\u001b[0m\u001b[0;34m,\u001b[0m \u001b[0;34m**\u001b[0m\u001b[0mkwds\u001b[0m\u001b[0;34m)\u001b[0m\u001b[0;34m\u001b[0m\u001b[0;34m\u001b[0m\u001b[0m\n\u001b[0m\u001b[1;32m   1854\u001b[0m         \u001b[0mself\u001b[0m\u001b[0;34m.\u001b[0m\u001b[0munnamed_cols\u001b[0m \u001b[0;34m=\u001b[0m \u001b[0mself\u001b[0m\u001b[0;34m.\u001b[0m\u001b[0m_reader\u001b[0m\u001b[0;34m.\u001b[0m\u001b[0munnamed_cols\u001b[0m\u001b[0;34m\u001b[0m\u001b[0;34m\u001b[0m\u001b[0m\n\u001b[1;32m   1855\u001b[0m \u001b[0;34m\u001b[0m\u001b[0m\n",
      "\u001b[0;32mpandas/_libs/parsers.pyx\u001b[0m in \u001b[0;36mpandas._libs.parsers.TextReader.__cinit__\u001b[0;34m()\u001b[0m\n",
      "\u001b[0;32mpandas/_libs/parsers.pyx\u001b[0m in \u001b[0;36mpandas._libs.parsers.TextReader._setup_parser_source\u001b[0;34m()\u001b[0m\n",
      "\u001b[0;31mFileNotFoundError\u001b[0m: [Errno 2] File b'mh_neigh_data.csv' does not exist: b'mh_neigh_data.csv'"
     ]
    }
   ],
   "source": [
    "# Read csv file with clustered neighborhoods with geodata\n",
    "manhattan_data  = pd.read_csv('mh_neigh_data.csv') \n",
    "manhattan_data.head()"
   ]
  },
  {
   "cell_type": "code",
   "execution_count": 19,
   "metadata": {},
   "outputs": [
    {
     "ename": "NameError",
     "evalue": "name 'manhattan_data' is not defined",
     "output_type": "error",
     "traceback": [
      "\u001b[0;31m---------------------------------------------------------------------------\u001b[0m",
      "\u001b[0;31mNameError\u001b[0m                                 Traceback (most recent call last)",
      "\u001b[0;32m<ipython-input-19-c3c3e406295b>\u001b[0m in \u001b[0;36m<module>\u001b[0;34m\u001b[0m\n\u001b[0;32m----> 1\u001b[0;31m \u001b[0mmanhattan_data\u001b[0m\u001b[0;34m.\u001b[0m\u001b[0mtail\u001b[0m\u001b[0;34m(\u001b[0m\u001b[0;34m)\u001b[0m\u001b[0;34m\u001b[0m\u001b[0;34m\u001b[0m\u001b[0m\n\u001b[0m",
      "\u001b[0;31mNameError\u001b[0m: name 'manhattan_data' is not defined"
     ]
    }
   ],
   "source": [
    "manhattan_data.tail()\n"
   ]
  },
  {
   "cell_type": "markdown",
   "metadata": {},
   "source": [
    "# Manhattan Borough neighborhoods - data with top 10 clustered venues"
   ]
  },
  {
   "cell_type": "code",
   "execution_count": 20,
   "metadata": {},
   "outputs": [
    {
     "ename": "FileNotFoundError",
     "evalue": "[Errno 2] File b'manhattan_merged.csv' does not exist: b'manhattan_merged.csv'",
     "output_type": "error",
     "traceback": [
      "\u001b[0;31m---------------------------------------------------------------------------\u001b[0m",
      "\u001b[0;31mFileNotFoundError\u001b[0m                         Traceback (most recent call last)",
      "\u001b[0;32m<ipython-input-20-296b6e18f29a>\u001b[0m in \u001b[0;36m<module>\u001b[0;34m\u001b[0m\n\u001b[0;32m----> 1\u001b[0;31m \u001b[0mmanhattan_merged\u001b[0m \u001b[0;34m=\u001b[0m \u001b[0mpd\u001b[0m\u001b[0;34m.\u001b[0m\u001b[0mread_csv\u001b[0m\u001b[0;34m(\u001b[0m\u001b[0;34m'manhattan_merged.csv'\u001b[0m\u001b[0;34m)\u001b[0m\u001b[0;34m\u001b[0m\u001b[0;34m\u001b[0m\u001b[0m\n\u001b[0m\u001b[1;32m      2\u001b[0m \u001b[0mmanhattan_merged\u001b[0m\u001b[0;34m.\u001b[0m\u001b[0mhead\u001b[0m\u001b[0;34m(\u001b[0m\u001b[0;34m)\u001b[0m\u001b[0;34m\u001b[0m\u001b[0;34m\u001b[0m\u001b[0m\n",
      "\u001b[0;32m/opt/conda/envs/Python36/lib/python3.6/site-packages/pandas/io/parsers.py\u001b[0m in \u001b[0;36mparser_f\u001b[0;34m(filepath_or_buffer, sep, delimiter, header, names, index_col, usecols, squeeze, prefix, mangle_dupe_cols, dtype, engine, converters, true_values, false_values, skipinitialspace, skiprows, skipfooter, nrows, na_values, keep_default_na, na_filter, verbose, skip_blank_lines, parse_dates, infer_datetime_format, keep_date_col, date_parser, dayfirst, iterator, chunksize, compression, thousands, decimal, lineterminator, quotechar, quoting, doublequote, escapechar, comment, encoding, dialect, tupleize_cols, error_bad_lines, warn_bad_lines, delim_whitespace, low_memory, memory_map, float_precision)\u001b[0m\n\u001b[1;32m    700\u001b[0m                     skip_blank_lines=skip_blank_lines)\n\u001b[1;32m    701\u001b[0m \u001b[0;34m\u001b[0m\u001b[0m\n\u001b[0;32m--> 702\u001b[0;31m         \u001b[0;32mreturn\u001b[0m \u001b[0m_read\u001b[0m\u001b[0;34m(\u001b[0m\u001b[0mfilepath_or_buffer\u001b[0m\u001b[0;34m,\u001b[0m \u001b[0mkwds\u001b[0m\u001b[0;34m)\u001b[0m\u001b[0;34m\u001b[0m\u001b[0;34m\u001b[0m\u001b[0m\n\u001b[0m\u001b[1;32m    703\u001b[0m \u001b[0;34m\u001b[0m\u001b[0m\n\u001b[1;32m    704\u001b[0m     \u001b[0mparser_f\u001b[0m\u001b[0;34m.\u001b[0m\u001b[0m__name__\u001b[0m \u001b[0;34m=\u001b[0m \u001b[0mname\u001b[0m\u001b[0;34m\u001b[0m\u001b[0;34m\u001b[0m\u001b[0m\n",
      "\u001b[0;32m/opt/conda/envs/Python36/lib/python3.6/site-packages/pandas/io/parsers.py\u001b[0m in \u001b[0;36m_read\u001b[0;34m(filepath_or_buffer, kwds)\u001b[0m\n\u001b[1;32m    427\u001b[0m \u001b[0;34m\u001b[0m\u001b[0m\n\u001b[1;32m    428\u001b[0m     \u001b[0;31m# Create the parser.\u001b[0m\u001b[0;34m\u001b[0m\u001b[0;34m\u001b[0m\u001b[0;34m\u001b[0m\u001b[0m\n\u001b[0;32m--> 429\u001b[0;31m     \u001b[0mparser\u001b[0m \u001b[0;34m=\u001b[0m \u001b[0mTextFileReader\u001b[0m\u001b[0;34m(\u001b[0m\u001b[0mfilepath_or_buffer\u001b[0m\u001b[0;34m,\u001b[0m \u001b[0;34m**\u001b[0m\u001b[0mkwds\u001b[0m\u001b[0;34m)\u001b[0m\u001b[0;34m\u001b[0m\u001b[0;34m\u001b[0m\u001b[0m\n\u001b[0m\u001b[1;32m    430\u001b[0m \u001b[0;34m\u001b[0m\u001b[0m\n\u001b[1;32m    431\u001b[0m     \u001b[0;32mif\u001b[0m \u001b[0mchunksize\u001b[0m \u001b[0;32mor\u001b[0m \u001b[0miterator\u001b[0m\u001b[0;34m:\u001b[0m\u001b[0;34m\u001b[0m\u001b[0;34m\u001b[0m\u001b[0m\n",
      "\u001b[0;32m/opt/conda/envs/Python36/lib/python3.6/site-packages/pandas/io/parsers.py\u001b[0m in \u001b[0;36m__init__\u001b[0;34m(self, f, engine, **kwds)\u001b[0m\n\u001b[1;32m    893\u001b[0m             \u001b[0mself\u001b[0m\u001b[0;34m.\u001b[0m\u001b[0moptions\u001b[0m\u001b[0;34m[\u001b[0m\u001b[0;34m'has_index_names'\u001b[0m\u001b[0;34m]\u001b[0m \u001b[0;34m=\u001b[0m \u001b[0mkwds\u001b[0m\u001b[0;34m[\u001b[0m\u001b[0;34m'has_index_names'\u001b[0m\u001b[0;34m]\u001b[0m\u001b[0;34m\u001b[0m\u001b[0;34m\u001b[0m\u001b[0m\n\u001b[1;32m    894\u001b[0m \u001b[0;34m\u001b[0m\u001b[0m\n\u001b[0;32m--> 895\u001b[0;31m         \u001b[0mself\u001b[0m\u001b[0;34m.\u001b[0m\u001b[0m_make_engine\u001b[0m\u001b[0;34m(\u001b[0m\u001b[0mself\u001b[0m\u001b[0;34m.\u001b[0m\u001b[0mengine\u001b[0m\u001b[0;34m)\u001b[0m\u001b[0;34m\u001b[0m\u001b[0;34m\u001b[0m\u001b[0m\n\u001b[0m\u001b[1;32m    896\u001b[0m \u001b[0;34m\u001b[0m\u001b[0m\n\u001b[1;32m    897\u001b[0m     \u001b[0;32mdef\u001b[0m \u001b[0mclose\u001b[0m\u001b[0;34m(\u001b[0m\u001b[0mself\u001b[0m\u001b[0;34m)\u001b[0m\u001b[0;34m:\u001b[0m\u001b[0;34m\u001b[0m\u001b[0;34m\u001b[0m\u001b[0m\n",
      "\u001b[0;32m/opt/conda/envs/Python36/lib/python3.6/site-packages/pandas/io/parsers.py\u001b[0m in \u001b[0;36m_make_engine\u001b[0;34m(self, engine)\u001b[0m\n\u001b[1;32m   1120\u001b[0m     \u001b[0;32mdef\u001b[0m \u001b[0m_make_engine\u001b[0m\u001b[0;34m(\u001b[0m\u001b[0mself\u001b[0m\u001b[0;34m,\u001b[0m \u001b[0mengine\u001b[0m\u001b[0;34m=\u001b[0m\u001b[0;34m'c'\u001b[0m\u001b[0;34m)\u001b[0m\u001b[0;34m:\u001b[0m\u001b[0;34m\u001b[0m\u001b[0;34m\u001b[0m\u001b[0m\n\u001b[1;32m   1121\u001b[0m         \u001b[0;32mif\u001b[0m \u001b[0mengine\u001b[0m \u001b[0;34m==\u001b[0m \u001b[0;34m'c'\u001b[0m\u001b[0;34m:\u001b[0m\u001b[0;34m\u001b[0m\u001b[0;34m\u001b[0m\u001b[0m\n\u001b[0;32m-> 1122\u001b[0;31m             \u001b[0mself\u001b[0m\u001b[0;34m.\u001b[0m\u001b[0m_engine\u001b[0m \u001b[0;34m=\u001b[0m \u001b[0mCParserWrapper\u001b[0m\u001b[0;34m(\u001b[0m\u001b[0mself\u001b[0m\u001b[0;34m.\u001b[0m\u001b[0mf\u001b[0m\u001b[0;34m,\u001b[0m \u001b[0;34m**\u001b[0m\u001b[0mself\u001b[0m\u001b[0;34m.\u001b[0m\u001b[0moptions\u001b[0m\u001b[0;34m)\u001b[0m\u001b[0;34m\u001b[0m\u001b[0;34m\u001b[0m\u001b[0m\n\u001b[0m\u001b[1;32m   1123\u001b[0m         \u001b[0;32melse\u001b[0m\u001b[0;34m:\u001b[0m\u001b[0;34m\u001b[0m\u001b[0;34m\u001b[0m\u001b[0m\n\u001b[1;32m   1124\u001b[0m             \u001b[0;32mif\u001b[0m \u001b[0mengine\u001b[0m \u001b[0;34m==\u001b[0m \u001b[0;34m'python'\u001b[0m\u001b[0;34m:\u001b[0m\u001b[0;34m\u001b[0m\u001b[0;34m\u001b[0m\u001b[0m\n",
      "\u001b[0;32m/opt/conda/envs/Python36/lib/python3.6/site-packages/pandas/io/parsers.py\u001b[0m in \u001b[0;36m__init__\u001b[0;34m(self, src, **kwds)\u001b[0m\n\u001b[1;32m   1851\u001b[0m         \u001b[0mkwds\u001b[0m\u001b[0;34m[\u001b[0m\u001b[0;34m'usecols'\u001b[0m\u001b[0;34m]\u001b[0m \u001b[0;34m=\u001b[0m \u001b[0mself\u001b[0m\u001b[0;34m.\u001b[0m\u001b[0musecols\u001b[0m\u001b[0;34m\u001b[0m\u001b[0;34m\u001b[0m\u001b[0m\n\u001b[1;32m   1852\u001b[0m \u001b[0;34m\u001b[0m\u001b[0m\n\u001b[0;32m-> 1853\u001b[0;31m         \u001b[0mself\u001b[0m\u001b[0;34m.\u001b[0m\u001b[0m_reader\u001b[0m \u001b[0;34m=\u001b[0m \u001b[0mparsers\u001b[0m\u001b[0;34m.\u001b[0m\u001b[0mTextReader\u001b[0m\u001b[0;34m(\u001b[0m\u001b[0msrc\u001b[0m\u001b[0;34m,\u001b[0m \u001b[0;34m**\u001b[0m\u001b[0mkwds\u001b[0m\u001b[0;34m)\u001b[0m\u001b[0;34m\u001b[0m\u001b[0;34m\u001b[0m\u001b[0m\n\u001b[0m\u001b[1;32m   1854\u001b[0m         \u001b[0mself\u001b[0m\u001b[0;34m.\u001b[0m\u001b[0munnamed_cols\u001b[0m \u001b[0;34m=\u001b[0m \u001b[0mself\u001b[0m\u001b[0;34m.\u001b[0m\u001b[0m_reader\u001b[0m\u001b[0;34m.\u001b[0m\u001b[0munnamed_cols\u001b[0m\u001b[0;34m\u001b[0m\u001b[0;34m\u001b[0m\u001b[0m\n\u001b[1;32m   1855\u001b[0m \u001b[0;34m\u001b[0m\u001b[0m\n",
      "\u001b[0;32mpandas/_libs/parsers.pyx\u001b[0m in \u001b[0;36mpandas._libs.parsers.TextReader.__cinit__\u001b[0;34m()\u001b[0m\n",
      "\u001b[0;32mpandas/_libs/parsers.pyx\u001b[0m in \u001b[0;36mpandas._libs.parsers.TextReader._setup_parser_source\u001b[0;34m()\u001b[0m\n",
      "\u001b[0;31mFileNotFoundError\u001b[0m: [Errno 2] File b'manhattan_merged.csv' does not exist: b'manhattan_merged.csv'"
     ]
    }
   ],
   "source": [
    "manhattan_merged = pd.read_csv('manhattan_merged.csv')\n",
    "manhattan_merged.head()"
   ]
  },
  {
   "cell_type": "markdown",
   "metadata": {},
   "source": [
    "# Map of Manhattan neighborhoods with top 10 clustered venues\n",
    "### popus allow to identify each neighborhood and the cluster of venues around it in order to proceed to examine in more detail in the next cell"
   ]
  },
  {
   "cell_type": "code",
   "execution_count": 21,
   "metadata": {},
   "outputs": [
    {
     "ename": "NameError",
     "evalue": "name 'manhattan_merged' is not defined",
     "output_type": "error",
     "traceback": [
      "\u001b[0;31m---------------------------------------------------------------------------\u001b[0m",
      "\u001b[0;31mNameError\u001b[0m                                 Traceback (most recent call last)",
      "\u001b[0;32m<ipython-input-21-c0a791ea0642>\u001b[0m in \u001b[0;36m<module>\u001b[0;34m\u001b[0m\n\u001b[1;32m     14\u001b[0m \u001b[0;31m# add markers to the map\u001b[0m\u001b[0;34m\u001b[0m\u001b[0;34m\u001b[0m\u001b[0;34m\u001b[0m\u001b[0m\n\u001b[1;32m     15\u001b[0m \u001b[0mmarkers_colors\u001b[0m \u001b[0;34m=\u001b[0m \u001b[0;34m[\u001b[0m\u001b[0;34m]\u001b[0m\u001b[0;34m\u001b[0m\u001b[0;34m\u001b[0m\u001b[0m\n\u001b[0;32m---> 16\u001b[0;31m \u001b[0;32mfor\u001b[0m \u001b[0mlat\u001b[0m\u001b[0;34m,\u001b[0m \u001b[0mlon\u001b[0m\u001b[0;34m,\u001b[0m \u001b[0mpoi\u001b[0m\u001b[0;34m,\u001b[0m \u001b[0mcluster\u001b[0m \u001b[0;32min\u001b[0m \u001b[0mzip\u001b[0m\u001b[0;34m(\u001b[0m\u001b[0mmanhattan_merged\u001b[0m\u001b[0;34m[\u001b[0m\u001b[0;34m'Latitude'\u001b[0m\u001b[0;34m]\u001b[0m\u001b[0;34m,\u001b[0m \u001b[0mmanhattan_merged\u001b[0m\u001b[0;34m[\u001b[0m\u001b[0;34m'Longitude'\u001b[0m\u001b[0;34m]\u001b[0m\u001b[0;34m,\u001b[0m \u001b[0mmanhattan_merged\u001b[0m\u001b[0;34m[\u001b[0m\u001b[0;34m'Neighborhood'\u001b[0m\u001b[0;34m]\u001b[0m\u001b[0;34m,\u001b[0m \u001b[0mmanhattan_merged\u001b[0m\u001b[0;34m[\u001b[0m\u001b[0;34m'Cluster Labels'\u001b[0m\u001b[0;34m]\u001b[0m\u001b[0;34m)\u001b[0m\u001b[0;34m:\u001b[0m\u001b[0;34m\u001b[0m\u001b[0;34m\u001b[0m\u001b[0m\n\u001b[0m\u001b[1;32m     17\u001b[0m     \u001b[0mlabel\u001b[0m \u001b[0;34m=\u001b[0m \u001b[0mfolium\u001b[0m\u001b[0;34m.\u001b[0m\u001b[0mPopup\u001b[0m\u001b[0;34m(\u001b[0m\u001b[0mstr\u001b[0m\u001b[0;34m(\u001b[0m\u001b[0mpoi\u001b[0m\u001b[0;34m)\u001b[0m \u001b[0;34m+\u001b[0m \u001b[0;34m' Cluster '\u001b[0m \u001b[0;34m+\u001b[0m \u001b[0mstr\u001b[0m\u001b[0;34m(\u001b[0m\u001b[0mcluster\u001b[0m\u001b[0;34m)\u001b[0m\u001b[0;34m,\u001b[0m \u001b[0mparse_html\u001b[0m\u001b[0;34m=\u001b[0m\u001b[0;32mTrue\u001b[0m\u001b[0;34m)\u001b[0m\u001b[0;34m\u001b[0m\u001b[0;34m\u001b[0m\u001b[0m\n\u001b[1;32m     18\u001b[0m     folium.CircleMarker(\n",
      "\u001b[0;31mNameError\u001b[0m: name 'manhattan_merged' is not defined"
     ]
    }
   ],
   "source": [
    "# create map of Manhattan using latitude and longitude values from Nominatim\n",
    "latitude= 40.7308619\n",
    "longitude= -73.9871558 \n",
    "\n",
    "kclusters=5\n",
    "map_clusters = folium.Map(location=[latitude, longitude], zoom_start=13)\n",
    "\n",
    "# set color scheme for the clusters\n",
    "x = np.arange(kclusters)\n",
    "ys = [i+x+(i*x)**2 for i in range(kclusters)]\n",
    "colors_array = cm.rainbow(np.linspace(0, 1, len(ys)))\n",
    "rainbow = [colors.rgb2hex(i) for i in colors_array]\n",
    "\n",
    "# add markers to the map\n",
    "markers_colors = []\n",
    "for lat, lon, poi, cluster in zip(manhattan_merged['Latitude'], manhattan_merged['Longitude'], manhattan_merged['Neighborhood'], manhattan_merged['Cluster Labels']):\n",
    "    label = folium.Popup(str(poi) + ' Cluster ' + str(cluster), parse_html=True)\n",
    "    folium.CircleMarker(\n",
    "        [lat, lon],\n",
    "        radius=20,\n",
    "        popup=label,\n",
    "        color=rainbow[cluster-1],\n",
    "        fill=True,\n",
    "        fill_color=rainbow[cluster-1],\n",
    "        fill_opacity=0.7).add_to(map_clusters)\n",
    "  # add markers for rental places to map\n",
    "for lat, lng, label in zip(manhattan_data['Latitude'], manhattan_data['Longitude'], manhattan_data['Neighborhood']):\n",
    "    label = folium.Popup(label, parse_html=True)\n",
    "    folium.CircleMarker(\n",
    "        [lat, lng],\n",
    "        radius=5,\n",
    "        popup=label,\n",
    "        color='blue',\n",
    "        fill=True,\n",
    "        fill_color='#3186cc',\n",
    "        fill_opacity=0.7,\n",
    "        parse_html=False).add_to(map_clusters)    \n",
    "    \n",
    "       \n",
    "map_clusters"
   ]
  },
  {
   "cell_type": "markdown",
   "metadata": {},
   "source": [
    "# Examine a paticular Cluster - print venues\n",
    "## After examining several cluster data , I concluded that cluster # 2 resembles closer the Singapore place, therefore providing guidance as to where to look for the future apartment .\n",
    "## Assign a value to 'kk' to explore a given cluster."
   ]
  },
  {
   "cell_type": "code",
   "execution_count": 22,
   "metadata": {},
   "outputs": [
    {
     "ename": "NameError",
     "evalue": "name 'manhattan_merged' is not defined",
     "output_type": "error",
     "traceback": [
      "\u001b[0;31m---------------------------------------------------------------------------\u001b[0m",
      "\u001b[0;31mNameError\u001b[0m                                 Traceback (most recent call last)",
      "\u001b[0;32m<ipython-input-22-b741b0a6b6bb>\u001b[0m in \u001b[0;36m<module>\u001b[0;34m\u001b[0m\n\u001b[1;32m      1\u001b[0m \u001b[0;31m## kk is the cluster number to explore\u001b[0m\u001b[0;34m\u001b[0m\u001b[0;34m\u001b[0m\u001b[0;34m\u001b[0m\u001b[0m\n\u001b[1;32m      2\u001b[0m \u001b[0mkk\u001b[0m \u001b[0;34m=\u001b[0m \u001b[0;36m2\u001b[0m\u001b[0;34m\u001b[0m\u001b[0;34m\u001b[0m\u001b[0m\n\u001b[0;32m----> 3\u001b[0;31m \u001b[0mmanhattan_merged\u001b[0m\u001b[0;34m.\u001b[0m\u001b[0mloc\u001b[0m\u001b[0;34m[\u001b[0m\u001b[0mmanhattan_merged\u001b[0m\u001b[0;34m[\u001b[0m\u001b[0;34m'Cluster Labels'\u001b[0m\u001b[0;34m]\u001b[0m \u001b[0;34m==\u001b[0m \u001b[0mkk\u001b[0m\u001b[0;34m,\u001b[0m \u001b[0mmanhattan_merged\u001b[0m\u001b[0;34m.\u001b[0m\u001b[0mcolumns\u001b[0m\u001b[0;34m[\u001b[0m\u001b[0;34m[\u001b[0m\u001b[0;36m1\u001b[0m\u001b[0;34m]\u001b[0m \u001b[0;34m+\u001b[0m \u001b[0mlist\u001b[0m\u001b[0;34m(\u001b[0m\u001b[0mrange\u001b[0m\u001b[0;34m(\u001b[0m\u001b[0;36m5\u001b[0m\u001b[0;34m,\u001b[0m \u001b[0mmanhattan_merged\u001b[0m\u001b[0;34m.\u001b[0m\u001b[0mshape\u001b[0m\u001b[0;34m[\u001b[0m\u001b[0;36m1\u001b[0m\u001b[0;34m]\u001b[0m\u001b[0;34m)\u001b[0m\u001b[0;34m)\u001b[0m\u001b[0;34m]\u001b[0m\u001b[0;34m]\u001b[0m\u001b[0;34m\u001b[0m\u001b[0;34m\u001b[0m\u001b[0m\n\u001b[0m",
      "\u001b[0;31mNameError\u001b[0m: name 'manhattan_merged' is not defined"
     ]
    }
   ],
   "source": [
    "## kk is the cluster number to explore\n",
    "kk = 2\n",
    "manhattan_merged.loc[manhattan_merged['Cluster Labels'] == kk, manhattan_merged.columns[[1] + list(range(5, manhattan_merged.shape[1]))]]"
   ]
  },
  {
   "cell_type": "markdown",
   "metadata": {},
   "source": [
    "# Map of Manhattan places for rent\n",
    "## Several Manhattan real estate webs were webscrapped to collect rental data, as mentioned in section 2.0 . The resut was summarized in a csv file for direct reading, in order to consolidate the proces.\n",
    "## The initial data for 144 apartment did not have the latitude and longitude data (NaN) but the information was established in the following cell using an algorythm and Nominatim."
   ]
  },
  {
   "cell_type": "code",
   "execution_count": 23,
   "metadata": {},
   "outputs": [
    {
     "ename": "FileNotFoundError",
     "evalue": "[Errno 2] File b'MH_flats_price.csv' does not exist: b'MH_flats_price.csv'",
     "output_type": "error",
     "traceback": [
      "\u001b[0;31m---------------------------------------------------------------------------\u001b[0m",
      "\u001b[0;31mFileNotFoundError\u001b[0m                         Traceback (most recent call last)",
      "\u001b[0;32m<ipython-input-23-1464a3c8d8db>\u001b[0m in \u001b[0;36m<module>\u001b[0;34m\u001b[0m\n\u001b[1;32m      1\u001b[0m \u001b[0;31m# csv files with rental places with basic data but still wihtout geodata ( latitude and longitude)\u001b[0m\u001b[0;34m\u001b[0m\u001b[0;34m\u001b[0m\u001b[0;34m\u001b[0m\u001b[0m\n\u001b[1;32m      2\u001b[0m \u001b[0;31m# pd.read_csv(' le.csv', header=None, nrows=5)\u001b[0m\u001b[0;34m\u001b[0m\u001b[0;34m\u001b[0m\u001b[0;34m\u001b[0m\u001b[0m\n\u001b[0;32m----> 3\u001b[0;31m \u001b[0mmh_rent\u001b[0m\u001b[0;34m=\u001b[0m\u001b[0mpd\u001b[0m\u001b[0;34m.\u001b[0m\u001b[0mread_csv\u001b[0m\u001b[0;34m(\u001b[0m\u001b[0;34m'MH_flats_price.csv'\u001b[0m\u001b[0;34m)\u001b[0m\u001b[0;34m\u001b[0m\u001b[0;34m\u001b[0m\u001b[0m\n\u001b[0m\u001b[1;32m      4\u001b[0m \u001b[0mmh_rent\u001b[0m\u001b[0;34m.\u001b[0m\u001b[0mhead\u001b[0m\u001b[0;34m(\u001b[0m\u001b[0;34m)\u001b[0m\u001b[0;34m\u001b[0m\u001b[0;34m\u001b[0m\u001b[0m\n",
      "\u001b[0;32m/opt/conda/envs/Python36/lib/python3.6/site-packages/pandas/io/parsers.py\u001b[0m in \u001b[0;36mparser_f\u001b[0;34m(filepath_or_buffer, sep, delimiter, header, names, index_col, usecols, squeeze, prefix, mangle_dupe_cols, dtype, engine, converters, true_values, false_values, skipinitialspace, skiprows, skipfooter, nrows, na_values, keep_default_na, na_filter, verbose, skip_blank_lines, parse_dates, infer_datetime_format, keep_date_col, date_parser, dayfirst, iterator, chunksize, compression, thousands, decimal, lineterminator, quotechar, quoting, doublequote, escapechar, comment, encoding, dialect, tupleize_cols, error_bad_lines, warn_bad_lines, delim_whitespace, low_memory, memory_map, float_precision)\u001b[0m\n\u001b[1;32m    700\u001b[0m                     skip_blank_lines=skip_blank_lines)\n\u001b[1;32m    701\u001b[0m \u001b[0;34m\u001b[0m\u001b[0m\n\u001b[0;32m--> 702\u001b[0;31m         \u001b[0;32mreturn\u001b[0m \u001b[0m_read\u001b[0m\u001b[0;34m(\u001b[0m\u001b[0mfilepath_or_buffer\u001b[0m\u001b[0;34m,\u001b[0m \u001b[0mkwds\u001b[0m\u001b[0;34m)\u001b[0m\u001b[0;34m\u001b[0m\u001b[0;34m\u001b[0m\u001b[0m\n\u001b[0m\u001b[1;32m    703\u001b[0m \u001b[0;34m\u001b[0m\u001b[0m\n\u001b[1;32m    704\u001b[0m     \u001b[0mparser_f\u001b[0m\u001b[0;34m.\u001b[0m\u001b[0m__name__\u001b[0m \u001b[0;34m=\u001b[0m \u001b[0mname\u001b[0m\u001b[0;34m\u001b[0m\u001b[0;34m\u001b[0m\u001b[0m\n",
      "\u001b[0;32m/opt/conda/envs/Python36/lib/python3.6/site-packages/pandas/io/parsers.py\u001b[0m in \u001b[0;36m_read\u001b[0;34m(filepath_or_buffer, kwds)\u001b[0m\n\u001b[1;32m    427\u001b[0m \u001b[0;34m\u001b[0m\u001b[0m\n\u001b[1;32m    428\u001b[0m     \u001b[0;31m# Create the parser.\u001b[0m\u001b[0;34m\u001b[0m\u001b[0;34m\u001b[0m\u001b[0;34m\u001b[0m\u001b[0m\n\u001b[0;32m--> 429\u001b[0;31m     \u001b[0mparser\u001b[0m \u001b[0;34m=\u001b[0m \u001b[0mTextFileReader\u001b[0m\u001b[0;34m(\u001b[0m\u001b[0mfilepath_or_buffer\u001b[0m\u001b[0;34m,\u001b[0m \u001b[0;34m**\u001b[0m\u001b[0mkwds\u001b[0m\u001b[0;34m)\u001b[0m\u001b[0;34m\u001b[0m\u001b[0;34m\u001b[0m\u001b[0m\n\u001b[0m\u001b[1;32m    430\u001b[0m \u001b[0;34m\u001b[0m\u001b[0m\n\u001b[1;32m    431\u001b[0m     \u001b[0;32mif\u001b[0m \u001b[0mchunksize\u001b[0m \u001b[0;32mor\u001b[0m \u001b[0miterator\u001b[0m\u001b[0;34m:\u001b[0m\u001b[0;34m\u001b[0m\u001b[0;34m\u001b[0m\u001b[0m\n",
      "\u001b[0;32m/opt/conda/envs/Python36/lib/python3.6/site-packages/pandas/io/parsers.py\u001b[0m in \u001b[0;36m__init__\u001b[0;34m(self, f, engine, **kwds)\u001b[0m\n\u001b[1;32m    893\u001b[0m             \u001b[0mself\u001b[0m\u001b[0;34m.\u001b[0m\u001b[0moptions\u001b[0m\u001b[0;34m[\u001b[0m\u001b[0;34m'has_index_names'\u001b[0m\u001b[0;34m]\u001b[0m \u001b[0;34m=\u001b[0m \u001b[0mkwds\u001b[0m\u001b[0;34m[\u001b[0m\u001b[0;34m'has_index_names'\u001b[0m\u001b[0;34m]\u001b[0m\u001b[0;34m\u001b[0m\u001b[0;34m\u001b[0m\u001b[0m\n\u001b[1;32m    894\u001b[0m \u001b[0;34m\u001b[0m\u001b[0m\n\u001b[0;32m--> 895\u001b[0;31m         \u001b[0mself\u001b[0m\u001b[0;34m.\u001b[0m\u001b[0m_make_engine\u001b[0m\u001b[0;34m(\u001b[0m\u001b[0mself\u001b[0m\u001b[0;34m.\u001b[0m\u001b[0mengine\u001b[0m\u001b[0;34m)\u001b[0m\u001b[0;34m\u001b[0m\u001b[0;34m\u001b[0m\u001b[0m\n\u001b[0m\u001b[1;32m    896\u001b[0m \u001b[0;34m\u001b[0m\u001b[0m\n\u001b[1;32m    897\u001b[0m     \u001b[0;32mdef\u001b[0m \u001b[0mclose\u001b[0m\u001b[0;34m(\u001b[0m\u001b[0mself\u001b[0m\u001b[0;34m)\u001b[0m\u001b[0;34m:\u001b[0m\u001b[0;34m\u001b[0m\u001b[0;34m\u001b[0m\u001b[0m\n",
      "\u001b[0;32m/opt/conda/envs/Python36/lib/python3.6/site-packages/pandas/io/parsers.py\u001b[0m in \u001b[0;36m_make_engine\u001b[0;34m(self, engine)\u001b[0m\n\u001b[1;32m   1120\u001b[0m     \u001b[0;32mdef\u001b[0m \u001b[0m_make_engine\u001b[0m\u001b[0;34m(\u001b[0m\u001b[0mself\u001b[0m\u001b[0;34m,\u001b[0m \u001b[0mengine\u001b[0m\u001b[0;34m=\u001b[0m\u001b[0;34m'c'\u001b[0m\u001b[0;34m)\u001b[0m\u001b[0;34m:\u001b[0m\u001b[0;34m\u001b[0m\u001b[0;34m\u001b[0m\u001b[0m\n\u001b[1;32m   1121\u001b[0m         \u001b[0;32mif\u001b[0m \u001b[0mengine\u001b[0m \u001b[0;34m==\u001b[0m \u001b[0;34m'c'\u001b[0m\u001b[0;34m:\u001b[0m\u001b[0;34m\u001b[0m\u001b[0;34m\u001b[0m\u001b[0m\n\u001b[0;32m-> 1122\u001b[0;31m             \u001b[0mself\u001b[0m\u001b[0;34m.\u001b[0m\u001b[0m_engine\u001b[0m \u001b[0;34m=\u001b[0m \u001b[0mCParserWrapper\u001b[0m\u001b[0;34m(\u001b[0m\u001b[0mself\u001b[0m\u001b[0;34m.\u001b[0m\u001b[0mf\u001b[0m\u001b[0;34m,\u001b[0m \u001b[0;34m**\u001b[0m\u001b[0mself\u001b[0m\u001b[0;34m.\u001b[0m\u001b[0moptions\u001b[0m\u001b[0;34m)\u001b[0m\u001b[0;34m\u001b[0m\u001b[0;34m\u001b[0m\u001b[0m\n\u001b[0m\u001b[1;32m   1123\u001b[0m         \u001b[0;32melse\u001b[0m\u001b[0;34m:\u001b[0m\u001b[0;34m\u001b[0m\u001b[0;34m\u001b[0m\u001b[0m\n\u001b[1;32m   1124\u001b[0m             \u001b[0;32mif\u001b[0m \u001b[0mengine\u001b[0m \u001b[0;34m==\u001b[0m \u001b[0;34m'python'\u001b[0m\u001b[0;34m:\u001b[0m\u001b[0;34m\u001b[0m\u001b[0;34m\u001b[0m\u001b[0m\n",
      "\u001b[0;32m/opt/conda/envs/Python36/lib/python3.6/site-packages/pandas/io/parsers.py\u001b[0m in \u001b[0;36m__init__\u001b[0;34m(self, src, **kwds)\u001b[0m\n\u001b[1;32m   1851\u001b[0m         \u001b[0mkwds\u001b[0m\u001b[0;34m[\u001b[0m\u001b[0;34m'usecols'\u001b[0m\u001b[0;34m]\u001b[0m \u001b[0;34m=\u001b[0m \u001b[0mself\u001b[0m\u001b[0;34m.\u001b[0m\u001b[0musecols\u001b[0m\u001b[0;34m\u001b[0m\u001b[0;34m\u001b[0m\u001b[0m\n\u001b[1;32m   1852\u001b[0m \u001b[0;34m\u001b[0m\u001b[0m\n\u001b[0;32m-> 1853\u001b[0;31m         \u001b[0mself\u001b[0m\u001b[0;34m.\u001b[0m\u001b[0m_reader\u001b[0m \u001b[0;34m=\u001b[0m \u001b[0mparsers\u001b[0m\u001b[0;34m.\u001b[0m\u001b[0mTextReader\u001b[0m\u001b[0;34m(\u001b[0m\u001b[0msrc\u001b[0m\u001b[0;34m,\u001b[0m \u001b[0;34m**\u001b[0m\u001b[0mkwds\u001b[0m\u001b[0;34m)\u001b[0m\u001b[0;34m\u001b[0m\u001b[0;34m\u001b[0m\u001b[0m\n\u001b[0m\u001b[1;32m   1854\u001b[0m         \u001b[0mself\u001b[0m\u001b[0;34m.\u001b[0m\u001b[0munnamed_cols\u001b[0m \u001b[0;34m=\u001b[0m \u001b[0mself\u001b[0m\u001b[0;34m.\u001b[0m\u001b[0m_reader\u001b[0m\u001b[0;34m.\u001b[0m\u001b[0munnamed_cols\u001b[0m\u001b[0;34m\u001b[0m\u001b[0;34m\u001b[0m\u001b[0m\n\u001b[1;32m   1855\u001b[0m \u001b[0;34m\u001b[0m\u001b[0m\n",
      "\u001b[0;32mpandas/_libs/parsers.pyx\u001b[0m in \u001b[0;36mpandas._libs.parsers.TextReader.__cinit__\u001b[0;34m()\u001b[0m\n",
      "\u001b[0;32mpandas/_libs/parsers.pyx\u001b[0m in \u001b[0;36mpandas._libs.parsers.TextReader._setup_parser_source\u001b[0;34m()\u001b[0m\n",
      "\u001b[0;31mFileNotFoundError\u001b[0m: [Errno 2] File b'MH_flats_price.csv' does not exist: b'MH_flats_price.csv'"
     ]
    }
   ],
   "source": [
    "# csv files with rental places with basic data but still wihtout geodata ( latitude and longitude)\n",
    "# pd.read_csv(' le.csv', header=None, nrows=5)\n",
    "mh_rent=pd.read_csv('MH_flats_price.csv')\n",
    "mh_rent.head()"
   ]
  },
  {
   "cell_type": "code",
   "execution_count": 24,
   "metadata": {},
   "outputs": [
    {
     "ename": "NameError",
     "evalue": "name 'mh_rent' is not defined",
     "output_type": "error",
     "traceback": [
      "\u001b[0;31m---------------------------------------------------------------------------\u001b[0m",
      "\u001b[0;31mNameError\u001b[0m                                 Traceback (most recent call last)",
      "\u001b[0;32m<ipython-input-24-1a192f9a7e40>\u001b[0m in \u001b[0;36m<module>\u001b[0;34m\u001b[0m\n\u001b[1;32m      1\u001b[0m \u001b[0;34m\u001b[0m\u001b[0m\n\u001b[0;32m----> 2\u001b[0;31m \u001b[0mmh_rent\u001b[0m\u001b[0;34m.\u001b[0m\u001b[0mtail\u001b[0m\u001b[0;34m(\u001b[0m\u001b[0;34m)\u001b[0m\u001b[0;34m\u001b[0m\u001b[0;34m\u001b[0m\u001b[0m\n\u001b[0m",
      "\u001b[0;31mNameError\u001b[0m: name 'mh_rent' is not defined"
     ]
    }
   ],
   "source": [
    "\n",
    "mh_rent.tail()"
   ]
  },
  {
   "cell_type": "markdown",
   "metadata": {},
   "source": [
    "# Obtain geodata ( lat,long) for each rental place in Manhattan with Nominatim\n",
    "### Data was stored in a csv file for simplifaction report purposes and saving code processing time in future."
   ]
  },
  {
   "cell_type": "code",
   "execution_count": null,
   "metadata": {},
   "outputs": [],
   "source": [
    "\n",
    "## This section may be 'markedown' for the report because its execution takes few minutes .\n",
    "## Terefore, the csv previusly made may be just read directly.   \n",
    "\n",
    "for n in range(len(mh_rent)):   \n",
    "    address= mh_rent['Address'][n]\n",
    "    address=(mh_rent['Address'][n]+ '  , '+' Manhattan NY ')\n",
    "    geolocator = Nominatim()\n",
    "    location = geolocator.geocode(address)\n",
    "    latitude = location.latitude\n",
    "    longitude = location.longitude\n",
    "    mh_rent['Lat'][n]=latitude\n",
    "    mh_rent['Long'][n]=longitude\n",
    "    #print(n,latitude,longitude)\n",
    "    time.sleep(2)\n",
    "\n",
    "print('Geodata completed')\n",
    "# save dataframe to csv file\n",
    "mh_rent.to_csv('MH_rent_latlong.csv',index=False)\n",
    "mh_rent.shape"
   ]
  },
  {
   "cell_type": "code",
   "execution_count": null,
   "metadata": {},
   "outputs": [],
   "source": [
    "mh_rent=pd.read_csv('MH_rent_latlong.csv')\n",
    "mh_rent.head()"
   ]
  },
  {
   "cell_type": "code",
   "execution_count": null,
   "metadata": {},
   "outputs": [],
   "source": [
    "mh_rent.tail()"
   ]
  },
  {
   "cell_type": "markdown",
   "metadata": {},
   "source": [
    "# Manhattan apartment rent price statistics\n",
    "## A US 7000 Dollar per month rent is actually around the mean value - similar to Singapore! wow!"
   ]
  },
  {
   "cell_type": "code",
   "execution_count": null,
   "metadata": {},
   "outputs": [],
   "source": [
    "import seaborn as sns\n",
    "sns.distplot(mh_rent['Rent_Price'],bins=15)"
   ]
  },
  {
   "cell_type": "code",
   "execution_count": null,
   "metadata": {},
   "outputs": [],
   "source": [
    "import seaborn as sns\n",
    "sns.distplot(mh_rent['Price_per_ft2'],bins=15)"
   ]
  },
  {
   "cell_type": "code",
   "execution_count": null,
   "metadata": {},
   "outputs": [],
   "source": [
    "sns.boxplot(x='Rooms', y= 'Rent_Price', data=mh_rent)"
   ]
  },
  {
   "cell_type": "markdown",
   "metadata": {},
   "source": [
    "# Map of Manhattan apartments for rent\n",
    "## The popups will indicate the address and the monthly price for rent thus making it convenient to select the target appartment with the price condition estipulated (max US7000 )"
   ]
  },
  {
   "cell_type": "code",
   "execution_count": 25,
   "metadata": {},
   "outputs": [
    {
     "ename": "NameError",
     "evalue": "name 'mh_rent' is not defined",
     "output_type": "error",
     "traceback": [
      "\u001b[0;31m---------------------------------------------------------------------------\u001b[0m",
      "\u001b[0;31mNameError\u001b[0m                                 Traceback (most recent call last)",
      "\u001b[0;32m<ipython-input-25-b6c16297d7b4>\u001b[0m in \u001b[0;36m<module>\u001b[0;34m\u001b[0m\n\u001b[1;32m      6\u001b[0m \u001b[0;34m\u001b[0m\u001b[0m\n\u001b[1;32m      7\u001b[0m \u001b[0;31m# add markers to map\u001b[0m\u001b[0;34m\u001b[0m\u001b[0;34m\u001b[0m\u001b[0;34m\u001b[0m\u001b[0m\n\u001b[0;32m----> 8\u001b[0;31m \u001b[0;32mfor\u001b[0m \u001b[0mlat\u001b[0m\u001b[0;34m,\u001b[0m \u001b[0mlng\u001b[0m\u001b[0;34m,\u001b[0m \u001b[0mlabel\u001b[0m \u001b[0;32min\u001b[0m \u001b[0mzip\u001b[0m\u001b[0;34m(\u001b[0m\u001b[0mmh_rent\u001b[0m\u001b[0;34m[\u001b[0m\u001b[0;34m'Lat'\u001b[0m\u001b[0;34m]\u001b[0m\u001b[0;34m,\u001b[0m \u001b[0mmh_rent\u001b[0m\u001b[0;34m[\u001b[0m\u001b[0;34m'Long'\u001b[0m\u001b[0;34m]\u001b[0m\u001b[0;34m,\u001b[0m\u001b[0;34m'$ '\u001b[0m \u001b[0;34m+\u001b[0m \u001b[0mmh_rent\u001b[0m\u001b[0;34m[\u001b[0m\u001b[0;34m'Rent_Price'\u001b[0m\u001b[0;34m]\u001b[0m\u001b[0;34m.\u001b[0m\u001b[0mastype\u001b[0m\u001b[0;34m(\u001b[0m\u001b[0mstr\u001b[0m\u001b[0;34m)\u001b[0m\u001b[0;34m+\u001b[0m \u001b[0;34m',  '\u001b[0m\u001b[0;34m+\u001b[0m \u001b[0mmh_rent\u001b[0m\u001b[0;34m[\u001b[0m\u001b[0;34m'Address'\u001b[0m\u001b[0;34m]\u001b[0m\u001b[0;34m)\u001b[0m\u001b[0;34m:\u001b[0m\u001b[0;34m\u001b[0m\u001b[0;34m\u001b[0m\u001b[0m\n\u001b[0m\u001b[1;32m      9\u001b[0m     \u001b[0mlabel\u001b[0m \u001b[0;34m=\u001b[0m \u001b[0mfolium\u001b[0m\u001b[0;34m.\u001b[0m\u001b[0mPopup\u001b[0m\u001b[0;34m(\u001b[0m\u001b[0mlabel\u001b[0m\u001b[0;34m,\u001b[0m \u001b[0mparse_html\u001b[0m\u001b[0;34m=\u001b[0m\u001b[0;32mTrue\u001b[0m\u001b[0;34m)\u001b[0m\u001b[0;34m\u001b[0m\u001b[0;34m\u001b[0m\u001b[0m\n\u001b[1;32m     10\u001b[0m     folium.CircleMarker(\n",
      "\u001b[0;31mNameError\u001b[0m: name 'mh_rent' is not defined"
     ]
    }
   ],
   "source": [
    "# create map of Manhattan using latitude and longitude values from Nominatim\n",
    "latitude= 40.7308619\n",
    "longitude= -73.9871558\n",
    "\n",
    "map_manhattan_rent = folium.Map(location=[latitude, longitude], zoom_start=12.5)\n",
    "\n",
    "# add markers to map\n",
    "for lat, lng, label in zip(mh_rent['Lat'], mh_rent['Long'],'$ ' + mh_rent['Rent_Price'].astype(str)+ ',  '+ mh_rent['Address']):      \n",
    "    label = folium.Popup(label, parse_html=True)\n",
    "    folium.CircleMarker(\n",
    "        [lat, lng],\n",
    "        radius=6,\n",
    "        popup=label,\n",
    "        color='blue',\n",
    "        fill=True,\n",
    "        fill_color='#3186cc',\n",
    "        fill_opacity=0.7,\n",
    "        parse_html=False).add_to(map_manhattan_rent) \n",
    "    \n",
    "\n",
    "map_manhattan_rent"
   ]
  },
  {
   "cell_type": "markdown",
   "metadata": {},
   "source": [
    "# Map of Manhattan showing the places for rent and the cluster of venues\n",
    "## Now, one can point to a rental place for price and address location information while knowing the cluster venues around it.\n",
    "## This is an insightful way to explore rental possibilites"
   ]
  },
  {
   "cell_type": "code",
   "execution_count": null,
   "metadata": {},
   "outputs": [],
   "source": [
    "# create map of Manhattan using latitude and longitude values from Nominatim\n",
    "latitude= 40.7308619\n",
    "longitude= -73.9871558\n",
    "\n",
    "# create map with clusters\n",
    "kclusters=5\n",
    "map_clusters2 = folium.Map(location=[latitude, longitude], zoom_start=13)\n",
    "\n",
    "# set color scheme for the clusters\n",
    "x = np.arange(kclusters)\n",
    "ys = [i+x+(i*x)**2 for i in range(kclusters)]\n",
    "colors_array = cm.rainbow(np.linspace(0, 1, len(ys)))\n",
    "rainbow = [colors.rgb2hex(i) for i in colors_array]\n",
    "\n",
    "# add markers to the map\n",
    "markers_colors = []\n",
    "for lat, lon, poi, cluster in zip(manhattan_merged['Latitude'], manhattan_merged['Longitude'], manhattan_merged['Neighborhood'], manhattan_merged['Cluster Labels']):\n",
    "    label = folium.Popup(str(poi) + ' Cluster ' + str(cluster), parse_html=True)\n",
    "    folium.CircleMarker(\n",
    "        [lat, lon],\n",
    "        radius=20,\n",
    "        popup=label,\n",
    "        color=rainbow[cluster-1],\n",
    "        fill=True,\n",
    "        fill_color=rainbow[cluster-1],\n",
    "        fill_opacity=0.7).add_to(map_clusters2)\n",
    "\n",
    "# add markers to map for rental places\n",
    "for lat, lng, label in zip(mh_rent['Lat'], mh_rent['Long'],'$ ' + mh_rent['Rent_Price'].astype(str)+ mh_rent['Address']):      \n",
    "    label = folium.Popup(label, parse_html=True)\n",
    "    folium.CircleMarker(\n",
    "        [lat, lng],\n",
    "        radius=6,\n",
    "        popup=label,\n",
    "        color='blue',\n",
    "        fill=True,\n",
    "        fill_color='#3186cc',\n",
    "        fill_opacity=0.7,\n",
    "        parse_html=False).add_to(map_clusters2)  \n",
    "    # Adds tool to the top right\n",
    "from folium.plugins import MeasureControl\n",
    "map_manhattan_rent.add_child(MeasureControl())\n",
    "\n",
    "# FMeasurement ruler icon to establish distnces on map\n",
    "from folium.plugins import FloatImage\n",
    "url = ('https://media.licdn.com/mpr/mpr/shrinknp_100_100/AAEAAQAAAAAAAAlgAAAAJGE3OTA4YTdlLTkzZjUtNDFjYy1iZThlLWQ5OTNkYzlhNzM4OQ.jpg')\n",
    "FloatImage(url, bottom=5, left=85).add_to(map_manhattan_rent)\n",
    "\n",
    "map_clusters2"
   ]
  },
  {
   "cell_type": "markdown",
   "metadata": {},
   "source": [
    "# Now one can explore a particular rental place and its venues in detail\n",
    "## In the map above, examination of appartments with rental place below 7000/month is straightforwad while knowing the venues around it.\n",
    "## We could find an appartment with at the right price and in a location with desirable venues. The next step is to see if it is located near a subway metro station, in next cells work."
   ]
  },
  {
   "cell_type": "code",
   "execution_count": null,
   "metadata": {},
   "outputs": [],
   "source": [
    "\n",
    "## kk is the cluster number to explore\n",
    "kk = 3\n",
    "manhattan_merged.loc[manhattan_merged['Cluster Labels'] == kk, manhattan_merged.columns[[1] + list(range(5, manhattan_merged.shape[1]))]]"
   ]
  },
  {
   "cell_type": "markdown",
   "metadata": {},
   "source": [
    "# Mapping Manhattan Subway locations\n",
    "## Manhattan subway metro locations ( address) was obtained from webscrapping sites such as Wikipedia, Google and NY Metro Transit. For simplification, a csv file was produced from the 'numbers' (Apple excel ) so that the reading of this file is the starting point here.\n",
    "## The geodata will be obtain via Nominatim using the algorythm below."
   ]
  },
  {
   "cell_type": "code",
   "execution_count": null,
   "metadata": {},
   "outputs": [],
   "source": [
    "# A csv file summarized the subway station and the addresses for next step to determine geodata\n",
    "mh=pd.read_csv('NYC_subway_list.csv')\n",
    "mh.head()"
   ]
  },
  {
   "cell_type": "markdown",
   "metadata": {},
   "source": [
    "### Add colums labeled 'lat' and 'long' to be filled with geodata"
   ]
  },
  {
   "cell_type": "code",
   "execution_count": null,
   "metadata": {},
   "outputs": [],
   "source": [
    "\n",
    "#  Add columns 'lat'  and 'long' to mh dataframe - with random temporary numbers to get started\n",
    "sLength = len(mh['sub_station'])\n",
    "lat = pd.Series(np.random.randn(sLength))\n",
    "long=pd.Series(np.random.randn(sLength))\n",
    "mh = mh.assign(lat=lat.values)\n",
    "mh = mh.assign(long=long.values)"
   ]
  },
  {
   "cell_type": "code",
   "execution_count": null,
   "metadata": {},
   "outputs": [],
   "source": [
    "## Algorythm to find latitude and longitud for each subway metro station and add them to dataframe\n",
    "\n",
    "for n in range(len(mh)):\n",
    "    address= mh['sub_address'][n]\n",
    "    geolocator = Nominatim()\n",
    "    location = geolocator.geocode(address)\n",
    "    latitude = location.latitude\n",
    "    longitude = location.longitude\n",
    "    mh['lat'][n]=latitude\n",
    "    mh['long'][n]=longitude\n",
    "    #print(n,latitude,longitude)\n",
    "    time.sleep(2)\n",
    "\n",
    "print('Geodata completed')\n",
    "# save dataframe to csv file\n",
    "mh.to_csv('MH_subway.csv',index=False)\n",
    "mh.shape"
   ]
  },
  {
   "cell_type": "code",
   "execution_count": null,
   "metadata": {},
   "outputs": [],
   "source": [
    "mh=pd.read_csv('MH_subway.csv')\n",
    "print(mh.shape)\n",
    "mh.head()"
   ]
  },
  {
   "cell_type": "code",
   "execution_count": null,
   "metadata": {},
   "outputs": [],
   "source": [
    "# removing duplicate rows and creating new set mhsub1\n",
    "mhsub1=mh.drop_duplicates(subset=['lat','long'], keep=\"last\").reset_index(drop=True)\n",
    "mhsub1.shape"
   ]
  },
  {
   "cell_type": "code",
   "execution_count": null,
   "metadata": {},
   "outputs": [],
   "source": [
    "\n",
    "mhsub1.tail()"
   ]
  },
  {
   "cell_type": "markdown",
   "metadata": {},
   "source": [
    "# MAP of Manhattan showing the location of subway stations"
   ]
  },
  {
   "cell_type": "code",
   "execution_count": null,
   "metadata": {},
   "outputs": [],
   "source": [
    "# map subway stations \n",
    "# create map of Manhattan using latitude and longitude values obtain previoulsy via Moninatim geolocator\n",
    "latitude=40.7308619\n",
    "longitude=-73.9871558\n",
    "\n",
    "map_mhsub1 = folium.Map(location=[latitude, longitude], zoom_start=12)\n",
    "\n",
    "# add markers of subway locations to map\n",
    "for lat, lng, label in zip(mhsub1['lat'], mhsub1['long'],  mhsub1['sub_station'].astype(str) ):\n",
    "    label = folium.Popup(label, parse_html=True)\n",
    "    folium.RegularPolygonMarker(\n",
    "        [lat, lng],\n",
    "        number_of_sides=6,\n",
    "        radius=6,\n",
    "        popup=label,\n",
    "        color='red',\n",
    "        fill_color='red',\n",
    "        fill_opacity=2.5,\n",
    "    ).add_to(map_mhsub1) \n",
    "map_mhsub1"
   ]
  },
  {
   "cell_type": "markdown",
   "metadata": {},
   "source": [
    "# Map of Manhattan showing places for rent and the subway locations nearby\n",
    "### Now, we can visualize the desirable rental places and their nearest subway station. Popups display rental address and monthly rental price and the subway station name.\n",
    "### Notice that the icon in the top-right corner is a \"ruler\" that allows to measure the distance from a rental place to an specific subway station"
   ]
  },
  {
   "cell_type": "code",
   "execution_count": null,
   "metadata": {},
   "outputs": [],
   "source": [
    "mh_rent.head()\n"
   ]
  },
  {
   "cell_type": "code",
   "execution_count": null,
   "metadata": {},
   "outputs": [],
   "source": [
    "# create map of Manhattan using latitude and longitude values from Nominatim\n",
    "latitude= 40.7308619\n",
    "longitude= -73.9871558\n",
    "\n",
    "map_manhattan_rent = folium.Map(location=[latitude, longitude], zoom_start=13.3)\n",
    "\n",
    "# add markers to map\n",
    "for lat, lng, label in zip(mh_rent['Lat'], mh_rent['Long'],'$ ' + mh_rent['Rent_Price'].astype(str)+ mh_rent['Address']):      \n",
    "    label = folium.Popup(label, parse_html=True)\n",
    "    folium.CircleMarker(\n",
    "        [lat, lng],\n",
    "        radius=6,\n",
    "        popup=label,\n",
    "        color='blue',\n",
    "        fill=True,\n",
    "        fill_color='#3186cc',\n",
    "        fill_opacity=0.7,\n",
    "        parse_html=False).add_to(map_manhattan_rent) \n",
    "    \n",
    "    # add markers of subway locations to map\n",
    "for lat, lng, label in zip(mhsub1['lat'], mhsub1['long'],  mhsub1['sub_station'].astype(str) ):\n",
    "    label = folium.Popup(label, parse_html=True)\n",
    "    folium.RegularPolygonMarker(\n",
    "        [lat, lng],\n",
    "        number_of_sides=6,\n",
    "        radius=6,\n",
    "        popup=label,\n",
    "        color='red',\n",
    "        fill_color='red',\n",
    "        fill_opacity=2.5,\n",
    "    ).add_to(map_manhattan_rent) \n",
    "    \n",
    "    # Adds tool to the top right\n",
    "from folium.plugins import MeasureControl\n",
    "map_manhattan_rent.add_child(MeasureControl())\n",
    "\n",
    "# Measurement ruler icon tool to measure distances in map\n",
    "from folium.plugins import FloatImage\n",
    "url = ('https://media.licdn.com/mpr/mpr/shrinknp_100_100/AAEAAQAAAAAAAAlgAAAAJGE3OTA4YTdlLTkzZjUtNDFjYy1iZThlLWQ5OTNkYzlhNzM4OQ.jpg')\n",
    "FloatImage(url, bottom=5, left=85).add_to(map_manhattan_rent)\n",
    "\n",
    "map_manhattan_rent"
   ]
  },
  {
   "cell_type": "markdown",
   "metadata": {},
   "source": [
    "# 4. Results section\n",
    "\n",
    "### This section consolodates the information to one map.\n",
    "\n",
    "####    4.1 Discussion of the results and how they help to take a decision.\n",
    "\n"
   ]
  },
  {
   "cell_type": "markdown",
   "metadata": {},
   "source": [
    "# Map of Manhattan with rental places, subway locations and cluster of venues\n",
    "#### Red dots are Subway stations, Blue dots are apartments available for rent, Bubbles are the clusters of venues"
   ]
  },
  {
   "cell_type": "code",
   "execution_count": null,
   "metadata": {},
   "outputs": [],
   "source": [
    "# create map of Manhattan using latitude and longitude values from Nominatim\n",
    "latitude= 40.7308619\n",
    "longitude= -73.9871558\n",
    "\n",
    "map_mh_one = folium.Map(location=[latitude, longitude], zoom_start=13.3)\n",
    "\n",
    "# add markers to map\n",
    "for lat, lng, label in zip(mh_rent['Lat'], mh_rent['Long'],'$ ' + mh_rent['Rent_Price'].astype(str)+ ', '+mh_rent['Address']):      \n",
    "    label = folium.Popup(label, parse_html=True)\n",
    "    folium.CircleMarker(\n",
    "        [lat, lng],\n",
    "        radius=6,\n",
    "        popup=label,\n",
    "        color='blue',\n",
    "        fill=True,\n",
    "        fill_color='#3186cc',\n",
    "        fill_opacity=0.7,\n",
    "        parse_html=False).add_to(map_mh_one) \n",
    "    \n",
    "    # add markers of subway locations to map\n",
    "for lat, lng, label in zip(mhsub1['lat'], mhsub1['long'],  mhsub1['sub_station'].astype(str) ):\n",
    "    label = folium.Popup(label, parse_html=True)\n",
    "    folium.RegularPolygonMarker(\n",
    "        [lat, lng],\n",
    "        number_of_sides=6,\n",
    "        radius=6,\n",
    "        popup=label,\n",
    "        color='red',\n",
    "        fill_color='red',\n",
    "        fill_opacity=2.5,\n",
    "    ).add_to(map_mh_one) \n",
    "    \n",
    "    \n",
    "# set color scheme for the clusters\n",
    "kclusters=5\n",
    "x = np.arange(kclusters)\n",
    "ys = [i+x+(i*x)**2 for i in range(kclusters)]\n",
    "colors_array = cm.rainbow(np.linspace(0, 1, len(ys)))\n",
    "rainbow = [colors.rgb2hex(i) for i in colors_array]\n",
    "\n",
    "# add markers to the map\n",
    "markers_colors = []\n",
    "for lat, lon, poi, cluster in zip(manhattan_merged['Latitude'], manhattan_merged['Longitude'], manhattan_merged['Neighborhood'], manhattan_merged['Cluster Labels']):\n",
    "    label = folium.Popup(str(poi) + ' Cluster ' + str(cluster), parse_html=True)\n",
    "    folium.CircleMarker(\n",
    "        [lat, lon],\n",
    "        radius=15,\n",
    "        popup=label,\n",
    "        color=rainbow[cluster-1],\n",
    "        fill=True,\n",
    "        fill_color=rainbow[cluster-1],\n",
    "        fill_opacity=0.7).add_to(map_mh_one)\n",
    "\n",
    "# Adds tool to the top right\n",
    "from folium.plugins import MeasureControl\n",
    "map_mh_one.add_child(MeasureControl())\n",
    "\n",
    "# Measurement ruler icon tool to measure distances in map\n",
    "from folium.plugins import FloatImage\n",
    "url = ('https://media.licdn.com/mpr/mpr/shrinknp_100_100/AAEAAQAAAAAAAAlgAAAAJGE3OTA4YTdlLTkzZjUtNDFjYy1iZThlLWQ5OTNkYzlhNzM4OQ.jpg')\n",
    "FloatImage(url, bottom=5, left=85).add_to(map_mh_one)\n",
    "\n",
    "map_mh_one"
   ]
  },
  {
   "cell_type": "markdown",
   "metadata": {},
   "source": [
    "# Problem Resolution\n",
    "### The above consolidate map was used to explore options.\n",
    "##### After examining, I have chosen two locations that meet the requirements which will assess to make a choice.\n",
    "\n",
    "##### Apartment 1: 305 East 63rd Street in the Sutton Place Neighborhood and near 'subway 59th Street' station, Cluster # 2 Monthly rent : 7500 Dollars\n",
    "\n",
    "##### Apartment 2: 19 Dutch Street in the Financial District Neighborhood and near 'Fulton Street Subway' station, Cluster # 3 Monthly rent : 6935 Dollars\n",
    "\n",
    "# Venues for Apartment 1 - Cluster 2"
   ]
  },
  {
   "cell_type": "code",
   "execution_count": null,
   "metadata": {},
   "outputs": [],
   "source": [
    "## kk is the cluster number to explore\n",
    "kk = 2\n",
    "manhattan_merged.loc[manhattan_merged['Cluster Labels'] == kk, manhattan_merged.columns[[1] + list(range(5, manhattan_merged.shape[1]))]]"
   ]
  },
  {
   "cell_type": "code",
   "execution_count": null,
   "metadata": {},
   "outputs": [],
   "source": [
    "## Venues for Apartment 2 - Cluster 3\n"
   ]
  },
  {
   "cell_type": "code",
   "execution_count": null,
   "metadata": {},
   "outputs": [],
   "source": [
    "## kk is the cluster number to explore\n",
    "kk = 3\n",
    "manhattan_merged.loc[manhattan_merged['Cluster Labels'] == kk, manhattan_merged.columns[[1] + list(range(5, manhattan_merged.shape[1]))]]\n"
   ]
  },
  {
   "cell_type": "markdown",
   "metadata": {},
   "source": [
    "# Apartment Selection\n",
    "#### Using the \"one map\" above, I was able to explore all possibilities since the popups provide the information needed for a good decision.\n",
    "##### Apartment 1 rent cost is US7500 slightly above the US7000 budget. Apt 1 is located 400 meters from subway station at 59th Street and work place ( Park Ave and 53rd) is another 600 meters way. I can walk to work place and use subway for other places aroung. Venues for this apt are as of Cluster 2 and it is located in a fine district in the East side of Manhattan.\n",
    "##### Apartment 2 rent cost is US6935, just under the US7000 budget. Apt 2 is located 60 meters from subway station at Fulton Street, but I will have to ride the subway daily to work , possibly 40-60 min ride. Venues for this apt are as of Cluster 3.¶\n",
    "\n",
    "### Based on current Singapore venues, I feel that Cluster 2 type of venues is a closer resemblance to my current place. That means that APARTMENT 1 is a better choice since the extra monthly rent is worth the conveniences it provides."
   ]
  },
  {
   "cell_type": "markdown",
   "metadata": {},
   "source": [
    "# 5. Discussion section \n",
    "\n",
    "####    5.1 Elaboration and discussion on any observations and/or recommendations for improvement.\n",
    "\n",
    "### In general, I am impressed with the overall organization, content and lab works presented during the Coursera IBM Certification Course. Although it was extermely difficult to complete, I feel this Capstone project presented a great opportunity to practice and apply the Data Science tools and methodologies learned. I have created a project that I can present to demonstrate my potential. I feel I have acquired a basic understanding to begin to conceptualize incorperating Data Science into my career as an analyst. I will continue to explore and create in the future."
   ]
  },
  {
   "cell_type": "markdown",
   "metadata": {},
   "source": [
    "# 6. Conclusion section\n",
    "\n",
    "####    6.1 Desicison taken and Report Conclusion.\n",
    "\n",
    "### I feel rewarded with the efforts, time, and money spent. I believe this course, with all the topics covered, is well worthy the expense. This project has shown me a practical application to resolve a real situation that has impacting personal and financial impact using Data Science tools. The mapping with Folium is a very powerful technique to consolidate information and make the analysis and decision thoroughly and with confidence. I would recommend for use in similar situations. One must keep up to date with the new tools for DS that continue to appear for application in several business fields.\n",
    "    "
   ]
  },
  {
   "cell_type": "code",
   "execution_count": null,
   "metadata": {},
   "outputs": [],
   "source": []
  }
 ],
 "metadata": {
  "kernelspec": {
   "display_name": "Python 3.6",
   "language": "python",
   "name": "python3"
  },
  "language_info": {
   "codemirror_mode": {
    "name": "ipython",
    "version": 3
   },
   "file_extension": ".py",
   "mimetype": "text/x-python",
   "name": "python",
   "nbconvert_exporter": "python",
   "pygments_lexer": "ipython3",
   "version": "3.6.9"
  }
 },
 "nbformat": 4,
 "nbformat_minor": 1
}
